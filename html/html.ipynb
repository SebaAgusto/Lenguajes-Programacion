{
 "cells": [
  {
   "cell_type": "markdown",
   "metadata": {},
   "source": [
    "# Indice HTML básico\n",
    "* [Empezando lo basico de HTML](#empezando-lo-basico-de-html)\n",
    "* [Estructura de una etiqueta](#estructura-de-una-etiqueta)\n",
    "* [Estructura de una pagina web](#estructura-de-una-pagina-web)\n",
    "* [Párrafos y encabezados](#párrafos-y-encabezados)"
   ]
  },
  {
   "cell_type": "markdown",
   "metadata": {},
   "source": [
    "# Curso de HTML\n",
    "En este notebook se enseñará lo basico de como programar en HTML. Toda la info. es extraida de este [video](https://www.youtube.com/watch?v=ELSm-G201Ls&t=53s)\n",
    "\n",
    "# Empezando lo basico de HTML\n",
    "HTML es un lenguaje demarcado, o sea, un lenguaje interpretativo (Como markdown). Entonces el objetivo de este tipo de lenguaje es escribir texto y que este texto sea interpretado por un programa y muestre el resultado que queremos. Con este lenguaje nosotros podemos \"Armar\" la estructura de alguna pagina web que nosotros querramos crear.\n",
    "## Estructura de una etiqueta\n",
    "En HTML cada elemento esta definido por etiquetas. Para abrir una etiqueta se utiliza el simbolo \"<\" y dentro de el simbolo se escribe algun nombre, y luego se cierra."
   ]
  },
  {
   "cell_type": "code",
   "execution_count": null,
   "metadata": {
    "vscode": {
     "languageId": "html"
    }
   },
   "outputs": [],
   "source": [
    "<tag>Contenido</tag>"
   ]
  },
  {
   "cell_type": "markdown",
   "metadata": {},
   "source": [
    "Hay que tener en cuenta que TODAS LAS ETIQUETAS TIENEN UNA FUNCION, asi que uno debe saber el como utilizarlas. \n",
    "\n",
    "## Estructura de una pagina web\n",
    "Toda pagina web debe tener una estructura, la cual es la siguiente: \\\n",
    "Si escribimos en html: \"html:5\" obtendremos lo siguiente"
   ]
  },
  {
   "cell_type": "code",
   "execution_count": null,
   "metadata": {
    "vscode": {
     "languageId": "html"
    }
   },
   "outputs": [],
   "source": [
    "<!DOCTYPE html> <!-- Esta etiqueta define la version de HTML, debe estar siempre-->\n",
    "<html lang=\"en\"> <!-- Esta es una etiqueta que define que todo lo que este dentro sera una pagina web-->\n",
    "    <!--Aqui dentro va todo el contenido, por eso esta identado.-->\n",
    "\n",
    "</html> <!--Termino de la etiqueta-->"
   ]
  },
  {
   "cell_type": "markdown",
   "metadata": {},
   "source": [
    "Toda estructura de pagina web esta compuesta por \"head\" que le dice a la pag. web mucha informacion sobre como esta creada la pagina web. Toda esta informacion no la puede ver la pagina web. \\\n",
    "Un ejemplo seria:"
   ]
  },
  {
   "cell_type": "code",
   "execution_count": null,
   "metadata": {
    "vscode": {
     "languageId": "html"
    }
   },
   "outputs": [],
   "source": [
    "<!DOCTYPE html> <!-- Esta etiqueta define la version de HTML, debe estar siempre-->\n",
    "<html lang=\"en\"> <!-- Esta es una etiqueta que define que todo lo que este dentro sera una pagina web-->\n",
    "\n",
    "    <!--Aqui dentro va todo el contenido, por eso esta identado.-->\n",
    "    <head>\n",
    "        <title>Primera pag. web</title> <!--Esto crea el titulo de la pagina web, idealmente una descripcion-->\n",
    "    </head>\n",
    "</html>"
   ]
  },
  {
   "cell_type": "markdown",
   "metadata": {},
   "source": [
    "Ademas de \"head\", toda pagina web debe tener \"body\". Esta etiqueta contiene todo el apartado visual de la pagina web, ya sea la informacion, titulos, etc. En resumen toda la pagina web se construye dentro de body."
   ]
  },
  {
   "cell_type": "code",
   "execution_count": null,
   "metadata": {
    "vscode": {
     "languageId": "html"
    }
   },
   "outputs": [],
   "source": [
    "<!DOCTYPE html> <!-- Esta etiqueta define la version de HTML, debe estar siempre-->\n",
    "<html lang=\"en\"> <!-- Esta es una etiqueta que define que todo lo que este dentro sera una pagina web-->\n",
    "\n",
    "    <!--Aqui dentro va todo el contenido, por eso esta identado.-->\n",
    "    <head>\n",
    "        <title>Primera pag. web</title> <!--Esto crea el titulo de la pagina web, idealmente una descripcion-->\n",
    "    </head>\n",
    "    <body>\n",
    "       <!--Aqui va toda la estructura de la pagina web-->\n",
    "    </body>\n",
    "</html>"
   ]
  },
  {
   "cell_type": "markdown",
   "metadata": {},
   "source": [
    "## Párrafos y encabezados\n",
    "Los parrafos en html se crean con la etiqueta \"p\", por lo que dentro de estos se escribe todo el contenido de la página. La diferencia de escribir en un parrafo que escribir sin este es que cada parrafo debe describir algo especifico, por lo que da un orden al momento de escribir una pagina web (ademas de otras funciones internas que tiene la etiqueta).\n",
    "\n",
    "Ademas de los parrafos existen los encabezados, los cuales tienen como etiqueta \"h\" y un numero desde el 1 al 6 (h1, h2, h3...) de los cuales el 1 es el encabezado de mayor tamaño y el 6 el de menor tamaño."
   ]
  },
  {
   "cell_type": "code",
   "execution_count": null,
   "metadata": {
    "vscode": {
     "languageId": "html"
    }
   },
   "outputs": [],
   "source": [
    "<!DOCTYPE html> <!-- Esta etiqueta define la version de HTML, debe estar siempre-->\n",
    "<html lang=\"en\"> <!-- Esta es una etiqueta que define que todo lo que este dentro sera una pagina web-->\n",
    "    <head>\n",
    "        <title>Parrafos y encabezados</title>\n",
    "    </head>\n",
    "    <body>\n",
    "        <h1>Titulo h1</h1> <!--Por pagina web el h1 se utiliza 1 sola vez-->\n",
    "        \n",
    "        <!--Todos los demas encabezados si se pueden utilizar mas de una vez,\n",
    "        pero deben tener en cuenta que h1 solo es 1 vez-->\n",
    "        <h2>subtitulo h2</h2>\n",
    "        <h3>subtitulo h3</h3>\n",
    "        <h4>subtitulo h4</h4>\n",
    "        <h5>subtitulo h5</h5>\n",
    "        <h6>subtitulo h6</h6>\n",
    "       <p> <!--Esto es un parrafo, todo lo que este dentro de el será un parrafo-->\n",
    "        Aqui estoy escribiendo informacion dentro del párrafo\n",
    "        \n",
    "       </p> <!--Aqui termina el párrafo-->\n",
    "    </body>\n",
    "</html>"
   ]
  },
  {
   "cell_type": "markdown",
   "metadata": {},
   "source": [
    "El uso de los encabezados es para dividir por secciones algunos temas especificos en una pagina web y asi mantener un orden y que sea mucho mas legible para el lector. Su uso seria algo relacionado con esto:\n",
    "<div align=\"center\">\n",
    "  <img src=\"https://i.pinimg.com/736x/eb/2b/cf/eb2bcf5184dd5b3cedc9bd908adc28f5.jpg\" alt=\"Imagen de ejemplo parrafos\" width=\"300\" height=\"300\" />\n",
    "</div>"
   ]
  },
  {
   "cell_type": "markdown",
   "metadata": {},
   "source": [
    "## Listas"
   ]
  }
 ],
 "metadata": {
  "kernelspec": {
   "display_name": "Python 3",
   "language": "python",
   "name": "python3"
  },
  "language_info": {
   "codemirror_mode": {
    "name": "ipython",
    "version": 3
   },
   "file_extension": ".py",
   "mimetype": "text/x-python",
   "name": "python",
   "nbconvert_exporter": "python",
   "pygments_lexer": "ipython3",
   "version": "3.11.7"
  }
 },
 "nbformat": 4,
 "nbformat_minor": 2
}
