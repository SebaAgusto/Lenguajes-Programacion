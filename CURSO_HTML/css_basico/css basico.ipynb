{
 "cells": [
  {
   "cell_type": "markdown",
   "metadata": {},
   "source": [
    "# Indice CSS Basico\n",
    "* [Introduccion a CSS](#introduccion-a-css)\n",
    "* [Selectores basicos](#selectores-basicos)"
   ]
  },
  {
   "cell_type": "markdown",
   "metadata": {},
   "source": [
    "# Curso CSS Basico\n",
    "En este notebook se enseñará lo basico de como programar en HTML. Toda la info. es extraida de este [video](https://www.youtube.com/watch?v=ELSm-G201Ls&t=53s). Ademas los codigos mostrados en este notebook se encuentran disponibles en la carpeta ```codigos_css/```. Es recomendable haberse leido el notebook ```html basico.ipynb``` que se encuentra en la carpeta ```html_basico/``` para entender mejor el contenido de este notebook.\n",
    "\n",
    "## Introduccion a CSS\n",
    "CSS es un lenguaje utilizado para darle un estilo a cada componente de HTML para asi crear una pagina mas estetica, funcional, navegable, etc. Se trata de entender como funciona cada propiedad y sus respectivas combinaciones y relaciones entre ellas. Supongamos que tenemos el siguiente codigo:\n"
   ]
  },
  {
   "cell_type": "code",
   "execution_count": 1,
   "metadata": {
    "vscode": {
     "languageId": "html"
    }
   },
   "outputs": [
    {
     "ename": "SyntaxError",
     "evalue": "invalid syntax (1983908073.py, line 1)",
     "output_type": "error",
     "traceback": [
      "\u001b[1;36m  Cell \u001b[1;32mIn[1], line 1\u001b[1;36m\u001b[0m\n\u001b[1;33m    <!DOCTYPE html>\u001b[0m\n\u001b[1;37m    ^\u001b[0m\n\u001b[1;31mSyntaxError\u001b[0m\u001b[1;31m:\u001b[0m invalid syntax\n"
     ]
    }
   ],
   "source": [
    "<!DOCTYPE html>\n",
    "<html>\n",
    "\n",
    "    <head>\n",
    "        <title>Enlazando CSS</title>\n",
    "    </head>\n",
    "\n",
    "    <body>\n",
    "        <h1>Titulo bakan</h1>\n",
    "\n",
    "        <p>\n",
    "            Este parrafo tiene un texto \n",
    "        </p>\n",
    "    </body>\n",
    "</html>"
   ]
  },
  {
   "cell_type": "markdown",
   "metadata": {},
   "source": [
    "De que forma podemos escribir en CSS para modificar un elemento? Tenemos 3 formas para enlazar CSS en HTML.\n",
    "1. **Estilos en linea:** Se le denomina asi porque se le da un estilo en una misma linea de codigo a cada etiqueta de codigo. Al escribir **\"style\"** nosotros accedemos a las PROPIEDADES (distinto de atributo) de CSS para modificar el texto. Siguiendo el codigo anterior: "
   ]
  },
  {
   "cell_type": "code",
   "execution_count": null,
   "metadata": {
    "vscode": {
     "languageId": "html"
    }
   },
   "outputs": [],
   "source": [
    "<!DOCTYPE html>\n",
    "<html>\n",
    "    <head>\n",
    "        <title>Enlazando CSS</title>\n",
    "    </head>\n",
    "    <body>\n",
    "        <h1>Titulo bakan</h1>\n",
    "        <p style=\"color: red; font-size: 20px;\">\n",
    "            Este parrafo tiene un texto \n",
    "        </p>\n",
    "        <!--Aqui al texto se le modifica el color y su tamaño-->\n",
    "    </body>\n",
    "</html>"
   ]
  },
  {
   "cell_type": "markdown",
   "metadata": {},
   "source": [
    "La limitacion de esto es que se están mezclando distintos tipos de lenguaje de programacion en un mismo archivo, algo que es una mala practica y no deberia hacerse. Para solucionar esto, está la opcion 2:\n",
    "2. **Utilizar una etiqueta de estilo:** Si nosotros en vez de escribir \"style\" como atributo, lo escribimos como una etiqueta y asi podemos modificar las propiedades de una etiqueta:"
   ]
  },
  {
   "cell_type": "code",
   "execution_count": null,
   "metadata": {
    "vscode": {
     "languageId": "html"
    }
   },
   "outputs": [],
   "source": [
    "<!DOCTYPE html>\n",
    "<html>\n",
    "\n",
    "    <head>\n",
    "        <title>Enlazando CSS</title>\n",
    "    </head>\n",
    "\n",
    "    <body>\n",
    "        <h1>Titulo bakan</h1>\n",
    "\n",
    "        <p>\n",
    "            Este parrafo tiene un texto \n",
    "        </p>\n",
    "        <style>\n",
    "            p {\n",
    "                color: red;\n",
    "                font-size: 40px;\n",
    "            }\n",
    "        </style>\n",
    "    </body>\n",
    "</html>"
   ]
  },
  {
   "cell_type": "markdown",
   "metadata": {},
   "source": [
    "Igualmente, aunque se vea mas ordenado no es la manera recomendada de realizar estas modificaciones, pues es mucho mejor tener un archivo exclusivo para realizar las modificaciones de las propiedades, que es la 3ra forma :).\n",
    "3. **Usar link:** Esta es una etiqueta que linkea una hoja de estilos. Se suele colocar en el \"head\" con el atributo **\"rel=stylesheet\"** que le dice a la pagina que el archivo que nosotros vamos a vincular tiene relacion con el estilo de la pagina. Tambien se utiliza el atrtibuto \"href\" para especificar cual archivo será el que vamos a vincular."
   ]
  },
  {
   "cell_type": "code",
   "execution_count": null,
   "metadata": {
    "vscode": {
     "languageId": "html"
    }
   },
   "outputs": [],
   "source": [
    "<!DOCTYPE html>\n",
    "<html>\n",
    "\n",
    "    <head>\n",
    "        <title>Enlazando CSS</title>\n",
    "        <link rel=\"stylesheet\" href=\"styles.css\">\n",
    "        <!--Se enlaza un archivo css con este codigo para asi vincular los estilos-->\n",
    "    </head>\n",
    "\n",
    "    <body>\n",
    "        <h1>Titulo bakan</h1>\n",
    "\n",
    "        <p>\n",
    "            Este parrafo tiene un texto \n",
    "        </p>\n",
    "    </body>\n",
    "</html>"
   ]
  },
  {
   "cell_type": "markdown",
   "metadata": {},
   "source": [
    "Nosotros creamos un archivo llamado ```styles.css``` que será exclusivo para escribir estilos y que estos se modifiquen en nuestro codigo principal. De esta forma uno puede modificar propiedades de un texto de manera correcta. \n",
    "\n",
    "Para seleccionar los elementos a modificar se pone el nombre de la etiqueta (p en el ejemplo), luego se abren las llaves ({...}) para declarar la modificacion de las propiedades. Es bastante intuitivo el como se utiliza :)."
   ]
  },
  {
   "cell_type": "markdown",
   "metadata": {},
   "source": [
    "## Selectores basicos\n",
    "me voy a dormir ya chao xd"
   ]
  }
 ],
 "metadata": {
  "kernelspec": {
   "display_name": "Python 3",
   "language": "python",
   "name": "python3"
  },
  "language_info": {
   "codemirror_mode": {
    "name": "ipython",
    "version": 3
   },
   "file_extension": ".py",
   "mimetype": "text/x-python",
   "name": "python",
   "nbconvert_exporter": "python",
   "pygments_lexer": "ipython3",
   "version": "3.11.7"
  }
 },
 "nbformat": 4,
 "nbformat_minor": 2
}
