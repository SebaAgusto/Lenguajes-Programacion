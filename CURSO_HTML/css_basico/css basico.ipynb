{
 "cells": [
  {
   "cell_type": "markdown",
   "metadata": {},
   "source": [
    "# Indice CSS Basico\n",
    "* [Introduccion a CSS](#introduccion-a-css)\n",
    "* [Selectores basicos](#selectores-basicos)"
   ]
  },
  {
   "cell_type": "markdown",
   "metadata": {},
   "source": [
    "# Curso CSS Basico\n",
    "En este notebook se enseñará lo basico de como programar en HTML. Toda la info. es extraida de este [video](https://www.youtube.com/watch?v=ELSm-G201Ls&t=53s). Ademas los codigos mostrados en este notebook se encuentran disponibles en la carpeta ```codigos_css/```. Es recomendable haberse leido el notebook ```html basico.ipynb``` que se encuentra en la carpeta ```html_basico/``` para entender mejor el contenido de este notebook.\n",
    "\n",
    "## Introduccion a CSS\n",
    "CSS es un lenguaje utilizado para darle un estilo a cada componente de HTML para asi crear una pagina mas estetica, funcional, navegable, etc. Se trata de entender como funciona cada propiedad y sus respectivas combinaciones y relaciones entre ellas. Supongamos que tenemos el siguiente codigo:\n"
   ]
  },
  {
   "cell_type": "code",
   "execution_count": null,
   "metadata": {
    "vscode": {
     "languageId": "html"
    }
   },
   "outputs": [],
   "source": [
    "<!DOCTYPE html>\n",
    "<html>\n",
    "\n",
    "    <head>\n",
    "        <title>Enlazando CSS</title>\n",
    "    </head>\n",
    "\n",
    "    <body>\n",
    "        <h1>Titulo bakan</h1>\n",
    "\n",
    "        <p>\n",
    "            Este parrafo tiene un texto \n",
    "        </p>\n",
    "    </body>\n",
    "</html>"
   ]
  },
  {
   "cell_type": "markdown",
   "metadata": {},
   "source": [
    "De que forma podemos escribir en CSS para modificar un elemento? Tenemos 3 formas para enlazar CSS en HTML.\n",
    "1. **Estilos en linea:** Se le denomina asi porque se le da un estilo en una misma linea de codigo a cada etiqueta de codigo. Al escribir **\"style\"** nosotros accedemos a las PROPIEDADES (distinto de atributo) de CSS para modificar el texto. Siguiendo el codigo anterior: "
   ]
  },
  {
   "cell_type": "code",
   "execution_count": null,
   "metadata": {
    "vscode": {
     "languageId": "html"
    }
   },
   "outputs": [],
   "source": [
    "<!DOCTYPE html>\n",
    "<html>\n",
    "    <head>\n",
    "        <title>Enlazando CSS</title>\n",
    "    </head>\n",
    "    <body>\n",
    "        <h1>Titulo bakan</h1>\n",
    "        <p style=\"color: red; font-size: 20px;\">\n",
    "            Este parrafo tiene un texto \n",
    "        </p>\n",
    "        <!--Aqui al texto se le modifica el color y su tamaño-->\n",
    "    </body>\n",
    "</html>"
   ]
  },
  {
   "cell_type": "markdown",
   "metadata": {},
   "source": [
    "La limitacion de esto es que se están mezclando distintos tipos de lenguaje de programacion en un mismo archivo, algo que es una mala practica y no deberia hacerse. Para solucionar esto, está la opcion 2:\n",
    "2. **Utilizar una etiqueta de estilo:** Si nosotros en vez de escribir \"style\" como atributo, lo escribimos como una etiqueta y asi podemos modificar las propiedades de una etiqueta:"
   ]
  },
  {
   "cell_type": "code",
   "execution_count": null,
   "metadata": {
    "vscode": {
     "languageId": "html"
    }
   },
   "outputs": [],
   "source": [
    "<!DOCTYPE html>\n",
    "<html>\n",
    "\n",
    "    <head>\n",
    "        <title>Enlazando CSS</title>\n",
    "    </head>\n",
    "\n",
    "    <body>\n",
    "        <h1>Titulo bakan</h1>\n",
    "\n",
    "        <p>\n",
    "            Este parrafo tiene un texto \n",
    "        </p>\n",
    "        <style>\n",
    "            p {\n",
    "                color: red;\n",
    "                font-size: 40px;\n",
    "            }\n",
    "        </style>\n",
    "    </body>\n",
    "</html>"
   ]
  },
  {
   "cell_type": "markdown",
   "metadata": {},
   "source": [
    "Igualmente, aunque se vea mas ordenado no es la manera recomendada de realizar estas modificaciones, pues es mucho mejor tener un archivo exclusivo para realizar las modificaciones de las propiedades, que es la 3ra forma :).\n",
    "3. **Usar link:** Esta es una etiqueta que linkea una hoja de estilos. Se suele colocar en el \"head\" con el atributo **\"rel=stylesheet\"** que le dice a la pagina que el archivo que nosotros vamos a vincular tiene relacion con el estilo de la pagina. Tambien se utiliza el atrtibuto \"href\" para especificar cual archivo será el que vamos a vincular."
   ]
  },
  {
   "cell_type": "code",
   "execution_count": null,
   "metadata": {
    "vscode": {
     "languageId": "html"
    }
   },
   "outputs": [],
   "source": [
    "<!DOCTYPE html>\n",
    "<html>\n",
    "\n",
    "    <head>\n",
    "        <title>Enlazando CSS</title>\n",
    "        <link rel=\"stylesheet\" href=\"styles.css\">\n",
    "        <!--Se enlaza un archivo css con este codigo para asi vincular los estilos-->\n",
    "    </head>\n",
    "\n",
    "    <body>\n",
    "        <h1>Titulo bakan</h1>\n",
    "\n",
    "        <p>\n",
    "            Este parrafo tiene un texto \n",
    "        </p>\n",
    "    </body>\n",
    "</html>"
   ]
  },
  {
   "cell_type": "markdown",
   "metadata": {},
   "source": [
    "Nosotros creamos un archivo llamado ```styles.css```  que será exclusivo para escribir estilos y que estos se modifiquen en nuestro codigo principal. De esta forma uno puede modificar propiedades de un texto de manera correcta. (Es importante saber que todos los estilos estarán en una carpeta llamada ```carpeta de estilos/```, por ende se deberá colocar la ruta para llegar al archivo deseado)\n",
    "\n",
    "Para seleccionar los elementos a modificar se pone el nombre de la etiqueta (p en el ejemplo), luego se abren las llaves ({...}) para declarar la modificacion de las propiedades. Es bastante intuitivo el como se utiliza :)."
   ]
  },
  {
   "cell_type": "markdown",
   "metadata": {},
   "source": [
    "## Selectores basicos\n",
    "Los selectores son aquellos que te permiten seleccionar 1 o varios elementos dentro de un documento html para modificar sus propiedades (en este caso lo vemos desde un documento .css). Existen 3 formas.\n",
    "1. **Selector elements:** Este selector lo que hace es buscar el nombre del elemento HTML y modificarlo. Uno puede crear sus propias etiquetas con nombres personalizados pero ES UNA MUY MALA PRACTICA y poco recomendable, ademas existen otras maneras de seleccionar unicamente los elementos que tu quieras."
   ]
  },
  {
   "cell_type": "code",
   "execution_count": null,
   "metadata": {
    "vscode": {
     "languageId": "html"
    }
   },
   "outputs": [],
   "source": [
    "<!--Codigo html-->\n",
    "<!DOCTYPE html>\n",
    "<html>\n",
    "\n",
    "    <head>\n",
    "        <title>Selectores</title>\n",
    "        <link rel=\"stylesheet\" href=\"carpeta de etilos/styles_selectores.css\"> <!--El estilo se guiara por ese archivo-->\n",
    "    </head>\n",
    "    <body>\n",
    "        <h1>Ingredientes</h1>\n",
    "        <p>\n",
    "            <ul>\n",
    "                <li>Harina</li>\n",
    "                <li>Agua</li>\n",
    "                <li>Leche</li>\n",
    "                <li>Huevos</li>\n",
    "            </ul> \n",
    "        </p>\n",
    "    </body>\n",
    "</html>"
   ]
  },
  {
   "cell_type": "markdown",
   "metadata": {},
   "source": [
    "Este es el archivo CSS\n",
    "```CSS\n",
    "li {\n",
    "    color: blue;\n",
    "}\n",
    "```\n",
    "Aquí se selecciona todas las etiquetas \"li\" para que su color sea \"blue\", si corren este codigo podrán ver que todo es azul."
   ]
  },
  {
   "cell_type": "markdown",
   "metadata": {},
   "source": [
    "Ese es un metodo usado, pero si nosotros queremos seleccionar elementos puntuales de un codigo, como lo podemos hacer? Para es existen las **CLASES**.\n",
    "\n",
    "2. **Clases:** Las clases se caracterizan por asignarle un nombre a uno o varios elementos del codigo para que así todas las clases que tengan el mismo nombre se modifiquen al mismo tiempo. Entonces ahora vamos a crear una clase llamada ```Liquidos``` que representa a todos los ingredientes que sean liquidos dentro de la lista y los vamos a representar con un color."
   ]
  },
  {
   "cell_type": "code",
   "execution_count": null,
   "metadata": {
    "vscode": {
     "languageId": "html"
    }
   },
   "outputs": [],
   "source": [
    "<!DOCTYPE html>\n",
    "<html>\n",
    "\n",
    "    <head>\n",
    "        <title>Selectores</title>\n",
    "        <link rel=\"stylesheet\" href=\"carpeta de etilos/styles_selectores.css\"> <!--El estilo se guiara por ese archivo-->\n",
    "    </head>\n",
    "\n",
    "    <body>\n",
    "        <h1>Ingredientes</h1>\n",
    "        <p>\n",
    "            <ul>\n",
    "                <li>Harina</li>\n",
    "                <li class=\"liquidos\">Agua</li> <!--se le asigna la clase-->\n",
    "                <li class=\"liquidos\">Leche</li>\n",
    "                <li>Huevos</li>\n",
    "            </ul> \n",
    "        </p>\n",
    "    </body>\n",
    "</html>"
   ]
  },
  {
   "cell_type": "markdown",
   "metadata": {},
   "source": [
    "Este es el archivo CSS\n",
    "```CSS\n",
    ".liquidos {\n",
    "    color: blue;\n",
    "}\n",
    "```\n",
    "A diferencia de las etiquetas, para llamar una clase se le debe anteponer un **\".\"**. Es recomendable ponerle a las clases nombres descriptivos para que el programador que lea el codigo sepa que está pasando en cada linea de codigo (es una buena practica :D).\n",
    "\n",
    "3. **Selectores por id:** Estos selectores se caracterizan por darle un identificador UNICO a cada elemento. A grandes rasgos funciona igual que las clases, pero NO SE RECOMIENDA COLOCAR UN ID A MAS DE UN ELEMENTO, pues no es una buena practica y puede traer problemas a futuro."
   ]
  },
  {
   "cell_type": "code",
   "execution_count": null,
   "metadata": {
    "vscode": {
     "languageId": "html"
    }
   },
   "outputs": [],
   "source": [
    "<!DOCTYPE html>\n",
    "<html>\n",
    "\n",
    "    <head>\n",
    "        <title>Selectores</title>\n",
    "        <link rel=\"stylesheet\" href=\"carpeta de etilos/styles_selectores.css\"> <!--El estilo se guiara por ese archivo-->\n",
    "    </head>\n",
    "\n",
    "    <body>\n",
    "        <h1>Ingredientes</h1>\n",
    "        <p>\n",
    "            <ul>\n",
    "                <li>Harina</li>\n",
    "                <li class=\"liquidos\">Agua</li>\n",
    "                <li class=\"liquidos\">Leche</li>\n",
    "                <li>Huevos</li>\n",
    "                <li id=\"ingrediente-secreto\">Dulces</li> <!--Se crea un elemento mas que será unico-->\n",
    "            </ul> \n",
    "        </p>\n",
    "    </body>\n",
    "</html>"
   ]
  },
  {
   "cell_type": "markdown",
   "metadata": {},
   "source": [
    "```CSS\n",
    ".liquidos {\n",
    "    color: blue;\n",
    "}\n",
    "#ingrediente-secreto {\n",
    "    color: pink;\n",
    "}\n",
    "```\n",
    "Para llamar a un id se debe anteponer un **\"#\"**. Y esas son las 3 maneras de seleccionar etiquetas para modificarlas."
   ]
  }
 ],
 "metadata": {
  "kernelspec": {
   "display_name": "Python 3",
   "language": "python",
   "name": "python3"
  },
  "language_info": {
   "codemirror_mode": {
    "name": "ipython",
    "version": 3
   },
   "file_extension": ".py",
   "mimetype": "text/x-python",
   "name": "python",
   "nbconvert_exporter": "python",
   "pygments_lexer": "ipython3",
   "version": "3.11.7"
  }
 },
 "nbformat": 4,
 "nbformat_minor": 2
}
