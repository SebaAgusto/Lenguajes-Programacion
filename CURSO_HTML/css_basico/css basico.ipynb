{
 "cells": [
  {
   "cell_type": "markdown",
   "metadata": {},
   "source": [
    "# Indice CSS Basico\n",
    "* [Introduccion a CSS](#introduccion-a-css)\n",
    "* [Selectores basicos](#selectores-basicos)"
   ]
  },
  {
   "cell_type": "markdown",
   "metadata": {},
   "source": [
    "# Curso CSS Basico\n",
    "En este notebook se enseñará lo basico de como programar en HTML. Toda la info. es extraida de este [video](https://www.youtube.com/watch?v=ELSm-G201Ls&t=53s). Ademas los codigos mostrados en este notebook se encuentran disponibles en la carpeta ```codigos_css/```. Es recomendable haberse leido el notebook ```html basico.ipynb``` que se encuentra en la carpeta ```html_basico/``` para entender mejor el contenido de este notebook.\n",
    "\n",
    "## Introduccion a CSS\n",
    "CSS es un lenguaje utilizado para darle un estilo a cada componente de HTML para asi crear una pagina mas estetica, funcional, navegable, etc. Se trata de entender como funciona cada propiedad y sus respectivas combinaciones y relaciones entre ellas. Supongamos que tenemos el siguiente codigo:\n"
   ]
  },
  {
   "cell_type": "code",
   "execution_count": null,
   "metadata": {
    "vscode": {
     "languageId": "html"
    }
   },
   "outputs": [],
   "source": [
    "<!DOCTYPE html>\n",
    "<html>\n",
    "\n",
    "    <head>\n",
    "        <title>Enlazando CSS</title>\n",
    "    </head>\n",
    "\n",
    "    <body>\n",
    "        <h1>Titulo bakan</h1>\n",
    "\n",
    "        <p>\n",
    "            Este parrafo tiene un texto \n",
    "        </p>\n",
    "    </body>\n",
    "</html>"
   ]
  },
  {
   "cell_type": "markdown",
   "metadata": {},
   "source": [
    "De que forma podemos escribir en CSS para modificar un elemento? Tenemos 3 formas para enlazar CSS en HTML.\n",
    "1. **Estilos en linea:** Se le denomina asi porque se le da un estilo en una misma linea de codigo a cada etiqueta de codigo. Al escribir **\"style\"** nosotros accedemos a las PROPIEDADES (distinto de atributo) de CSS para modificar el texto. Siguiendo el codigo anterior: "
   ]
  },
  {
   "cell_type": "code",
   "execution_count": null,
   "metadata": {
    "vscode": {
     "languageId": "html"
    }
   },
   "outputs": [],
   "source": [
    "<!DOCTYPE html>\n",
    "<html>\n",
    "    <head>\n",
    "        <title>Enlazando CSS</title>\n",
    "    </head>\n",
    "    <body>\n",
    "        <h1>Titulo bakan</h1>\n",
    "        <p style=\"color: red; font-size: 20px;\">\n",
    "            Este parrafo tiene un texto \n",
    "        </p>\n",
    "        <!--Aqui al texto se le modifica el color y su tamaño-->\n",
    "    </body>\n",
    "</html>"
   ]
  },
  {
   "cell_type": "markdown",
   "metadata": {},
   "source": [
    "La limitacion de esto es que se están mezclando distintos tipos de lenguaje de programacion en un mismo archivo, algo que es una mala practica y no deberia hacerse. Para solucionar esto, está la opcion 2:\n",
    "2. **Utilizar una etiqueta de estilo:** Si nosotros en vez de escribir \"style\" como atributo, lo escribimos como una etiqueta y asi podemos modificar las propiedades de una etiqueta:"
   ]
  },
  {
   "cell_type": "code",
   "execution_count": null,
   "metadata": {
    "vscode": {
     "languageId": "html"
    }
   },
   "outputs": [],
   "source": [
    "<!DOCTYPE html>\n",
    "<html>\n",
    "\n",
    "    <head>\n",
    "        <title>Enlazando CSS</title>\n",
    "    </head>\n",
    "\n",
    "    <body>\n",
    "        <h1>Titulo bakan</h1>\n",
    "\n",
    "        <p>\n",
    "            Este parrafo tiene un texto \n",
    "        </p>\n",
    "        <style>\n",
    "            p {\n",
    "                color: red;\n",
    "                font-size: 40px;\n",
    "            }\n",
    "        </style>\n",
    "    </body>\n",
    "</html>"
   ]
  },
  {
   "cell_type": "markdown",
   "metadata": {},
   "source": [
    "Igualmente, aunque se vea mas ordenado no es la manera recomendada de realizar estas modificaciones, pues es mucho mejor tener un archivo exclusivo para realizar las modificaciones de las propiedades, que es la 3ra forma :).\n",
    "3. **Usar link:** Esta es una etiqueta que linkea una hoja de estilos. Se suele colocar en el \"head\" con el atributo **\"rel=stylesheet\"** que le dice a la pagina que el archivo que nosotros vamos a vincular tiene relacion con el estilo de la pagina. Tambien se utiliza el atrtibuto \"href\" para especificar cual archivo será el que vamos a vincular."
   ]
  },
  {
   "cell_type": "code",
   "execution_count": null,
   "metadata": {
    "vscode": {
     "languageId": "html"
    }
   },
   "outputs": [],
   "source": [
    "<!DOCTYPE html>\n",
    "<html>\n",
    "\n",
    "    <head>\n",
    "        <title>Enlazando CSS</title>\n",
    "        <link rel=\"stylesheet\" href=\"styles.css\">\n",
    "        <!--Se enlaza un archivo css con este codigo para asi vincular los estilos-->\n",
    "    </head>\n",
    "\n",
    "    <body>\n",
    "        <h1>Titulo bakan</h1>\n",
    "\n",
    "        <p>\n",
    "            Este parrafo tiene un texto \n",
    "        </p>\n",
    "    </body>\n",
    "</html>"
   ]
  },
  {
   "cell_type": "markdown",
   "metadata": {},
   "source": [
    "Nosotros creamos un archivo llamado ```styles.css```  que será exclusivo para escribir estilos y que estos se modifiquen en nuestro codigo principal. De esta forma uno puede modificar propiedades de un texto de manera correcta. (Es importante saber que todos los estilos estarán en una carpeta llamada ```carpeta de estilos/```, por ende se deberá colocar la ruta para llegar al archivo deseado)\n",
    "\n",
    "Para seleccionar los elementos a modificar se pone el nombre de la etiqueta (p en el ejemplo), luego se abren las llaves ({...}) para declarar la modificacion de las propiedades. Es bastante intuitivo el como se utiliza :)."
   ]
  },
  {
   "cell_type": "markdown",
   "metadata": {},
   "source": [
    "## Selectores basicos\n",
    "Los selectores son aquellos que te permiten seleccionar 1 o varios elementos dentro de un documento html para modificar sus propiedades (en este caso lo vemos desde un documento .css). Existen 3 formas.\n",
    "1. **Selector elements:** Este selector lo que hace es buscar el nombre del elemento HTML y modificarlo. Uno puede crear sus propias etiquetas con nombres personalizados pero ES UNA MUY MALA PRACTICA y poco recomendable, ademas existen otras maneras de seleccionar unicamente los elementos que tu quieras."
   ]
  },
  {
   "cell_type": "code",
   "execution_count": null,
   "metadata": {
    "vscode": {
     "languageId": "html"
    }
   },
   "outputs": [],
   "source": [
    "<!--Codigo html-->\n",
    "<!DOCTYPE html>\n",
    "<html>\n",
    "\n",
    "    <head>\n",
    "        <title>Selectores</title>\n",
    "        <link rel=\"stylesheet\" href=\"carpeta de etilos/styles_selectores.css\"> <!--El estilo se guiara por ese archivo-->\n",
    "    </head>\n",
    "    <body>\n",
    "        <h1>Ingredientes</h1>\n",
    "        <p>\n",
    "            <ul>\n",
    "                <li>Harina</li>\n",
    "                <li>Agua</li>\n",
    "                <li>Leche</li>\n",
    "                <li>Huevos</li>\n",
    "            </ul> \n",
    "        </p>\n",
    "    </body>\n",
    "</html>"
   ]
  },
  {
   "cell_type": "markdown",
   "metadata": {},
   "source": [
    "Este es el archivo CSS\n",
    "```CSS\n",
    "li {\n",
    "    color: blue;\n",
    "}\n",
    "```\n",
    "Aquí se selecciona todas las etiquetas \"li\" para que su color sea \"blue\", si corren este codigo podrán ver que todo es azul."
   ]
  },
  {
   "cell_type": "markdown",
   "metadata": {},
   "source": [
    "Ese es un metodo usado, pero si nosotros queremos seleccionar elementos puntuales de un codigo, como lo podemos hacer? Para es existen las **CLASES**.\n",
    "\n",
    "2. **Clases:** Las clases se caracterizan por asignarle un nombre a uno o varios elementos del codigo para que así todas las clases que tengan el mismo nombre se modifiquen al mismo tiempo. Entonces ahora vamos a crear una clase llamada ```Liquidos``` que representa a todos los ingredientes que sean liquidos dentro de la lista y los vamos a representar con un color."
   ]
  },
  {
   "cell_type": "code",
   "execution_count": null,
   "metadata": {
    "vscode": {
     "languageId": "html"
    }
   },
   "outputs": [],
   "source": [
    "<!DOCTYPE html>\n",
    "<html>\n",
    "\n",
    "    <head>\n",
    "        <title>Selectores</title>\n",
    "        <link rel=\"stylesheet\" href=\"carpeta de etilos/styles_selectores.css\"> <!--El estilo se guiara por ese archivo-->\n",
    "    </head>\n",
    "\n",
    "    <body>\n",
    "        <h1>Ingredientes</h1>\n",
    "        <p>\n",
    "            <ul>\n",
    "                <li>Harina</li>\n",
    "                <li class=\"liquidos\">Agua</li> <!--se le asigna la clase-->\n",
    "                <li class=\"liquidos\">Leche</li>\n",
    "                <li>Huevos</li>\n",
    "            </ul> \n",
    "        </p>\n",
    "    </body>\n",
    "</html>"
   ]
  },
  {
   "cell_type": "markdown",
   "metadata": {},
   "source": [
    "Este es el archivo CSS\n",
    "```CSS\n",
    ".liquidos {\n",
    "    color: blue;\n",
    "}\n",
    "```\n",
    "A diferencia de las etiquetas, para llamar una clase se le debe anteponer un **\".\"**. Es recomendable ponerle a las clases nombres descriptivos para que el programador que lea el codigo sepa que está pasando en cada linea de codigo (es una buena practica :D).\n",
    "\n",
    "3. **Selectores por id:** Estos selectores se caracterizan por darle un identificador UNICO a cada elemento. A grandes rasgos funciona igual que las clases, pero NO SE RECOMIENDA COLOCAR UN ID A MAS DE UN ELEMENTO, pues no es una buena practica y puede traer problemas a futuro."
   ]
  },
  {
   "cell_type": "code",
   "execution_count": null,
   "metadata": {
    "vscode": {
     "languageId": "html"
    }
   },
   "outputs": [],
   "source": [
    "<!DOCTYPE html>\n",
    "<html>\n",
    "\n",
    "    <head>\n",
    "        <title>Selectores</title>\n",
    "        <link rel=\"stylesheet\" href=\"carpeta de etilos/styles_selectores.css\"> <!--El estilo se guiara por ese archivo-->\n",
    "    </head>\n",
    "\n",
    "    <body>\n",
    "        <h1>Ingredientes</h1>\n",
    "        <p>\n",
    "            <ul>\n",
    "                <li>Harina</li>\n",
    "                <li class=\"liquidos\">Agua</li>\n",
    "                <li class=\"liquidos\">Leche</li>\n",
    "                <li>Huevos</li>\n",
    "                <li id=\"ingrediente-secreto\">Dulces</li> <!--Se crea un elemento mas que será unico-->\n",
    "            </ul> \n",
    "        </p>\n",
    "    </body>\n",
    "</html>"
   ]
  },
  {
   "cell_type": "markdown",
   "metadata": {},
   "source": [
    "```CSS\n",
    ".liquidos {\n",
    "    color: blue;\n",
    "}\n",
    "#ingrediente-secreto {\n",
    "    color: pink;\n",
    "}\n",
    "```\n",
    "Para llamar a un id se debe anteponer un **\"#\"**.\n",
    "\n",
    " Y esas son las 3 maneras de seleccionar etiquetas para modificarlas."
   ]
  },
  {
   "cell_type": "markdown",
   "metadata": {},
   "source": [
    "## Propiedades de texto y fuente\n",
    "A continuacion se mostraran algunas propiedades de texto que tienen como funcion modificar el como se verá en la pagina web. (En esta seccion se mencionará cada propiedad y al final se mostrará un codigo HTML y CSS con todas las propiedades aplicadas)\n",
    "* **Color:** Esta propiedad lo que hace es modificar el color del texto.\n",
    "\n",
    "* **Font-family:** Esta propiedad cambia la fuente (tipografía) del texto. Un detalle importante es que si uno coloca una fuente, puedes colocar una \",\" para que pongas otra fuente. Esto se usa con la finalidad de que si la 1ra fuente no sirve (por error, porque el pc no tiene esa fuente, etc) pruebe con la que sigue y asi sucesivamente.\n",
    "\n",
    "* **Font-size:** Esta propiedad modifica el tamaño del texto. Por defecto el tamaño es de 16px. \n",
    "\n",
    "* **Font.weight:** Esta propiedad permite modificar el grosor de la tipografía, ya sea mas gruesa o mas delgada. Hay que tener en cuenta que al momento de escoger un grosor aparecen varios numeros, del 100 al 900, donde 100 es el mas delgado y 900 el mas grueso. Sin embargo hay que tener en cuenta que cada fuente tiene un grosor distinto asignado, me refiero a que, si tengo una fuente \"X\", esta puede ser de igual grosor desde el 100 al 500, pero en el 600 al 900 se hace mas gruesa; en cambio si tengo una fuente \"Y\" esta puede tener un grosor definido en 100 - 300, otro distinto en 400 - 600 y otro mas grueso en 700 - 900. Asi que irá variando dependiendo de la fuente.\n",
    "\n",
    "* **Font-style:** Esta propiedad nos cambia el estilo del texto. Siempre el estilo por defecto es \"normal\".\n",
    "\n",
    "* **Text-align:** Esta propiedad alinea un texto dentro de su \"contenedor\" para saber donde partir o intentar dejar todo un texto igual segun un margen.\n",
    "\n",
    "* **Text-decoration:** Esta propiedad permite decorar el texto de diversas maneras, ya sea subrayar, tachar texto o sobrerayar un texto. La opcion por defecto de esta propiedad es \"None\".\n",
    "\n",
    "* **Line-height:** Esta propiedad define el espaciado que hay entre lineas en un texto.\n",
    "\n",
    "* **Letter-spacing:** Esta propiedad define el espacio que habrá entre letras, medida en pixeles.\n",
    "\n",
    "* **Text-transform:** Esta propiedad transforma el texto dependiendo de que propiedad se le asigne.\n",
    "\n",
    "Existen muchas mas propiedades, pero estas son las principales que uno usará al momento del desarrollo web. El codigo está en el archivo ```prop_texto.html``` ubicado en ```codigos_css/```. El archivo css de estilos se llama ```styles_texto.css``` ubicado en ```codigos_css/carpeta de estilos/```"
   ]
  },
  {
   "cell_type": "markdown",
   "metadata": {},
   "source": [
    "## Tipografias externas\n",
    "despues sigo gracias :)"
   ]
  }
 ],
 "metadata": {
  "kernelspec": {
   "display_name": "Python 3",
   "language": "python",
   "name": "python3"
  },
  "language_info": {
   "codemirror_mode": {
    "name": "ipython",
    "version": 3
   },
   "file_extension": ".py",
   "mimetype": "text/x-python",
   "name": "python",
   "nbconvert_exporter": "python",
   "pygments_lexer": "ipython3",
   "version": "3.11.7"
  }
 },
 "nbformat": 4,
 "nbformat_minor": 2
}
