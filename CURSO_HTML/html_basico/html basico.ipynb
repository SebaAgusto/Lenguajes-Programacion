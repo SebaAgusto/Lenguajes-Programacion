{
 "cells": [
  {
   "cell_type": "markdown",
   "metadata": {},
   "source": [
    "# Indice HTML básico\n",
    "* [Empezando lo basico de HTML](#empezando-lo-basico-de-html)\n",
    "* [Estructura de una etiqueta](#estructura-de-una-etiqueta)\n",
    "* [Estructura de una pagina web](#estructura-de-una-pagina-web)\n",
    "* [Parrafos y encabezados](#parrafos-y-encabezados)\n",
    "* [listas](#listas)\n",
    "* [Enlaces (Basico)](#enlaces-basico)\n",
    "* [Imagenes y rutas](#imagenes-y-rutas)\n",
    "* [formularios](#formularios)"
   ]
  },
  {
   "cell_type": "markdown",
   "metadata": {},
   "source": [
    "# Curso de HTML\n",
    "En este notebook se enseñará lo basico de como programar en HTML. Toda la info. es extraida de este [video](https://www.youtube.com/watch?v=ELSm-G201Ls&t=53s). Todos los codigos mostrados en este notebook se encuentran disponibles en la carpeta ```/codigos_html```\n",
    "\n",
    "# Empezando lo basico de HTML\n",
    "HTML es un lenguaje demarcado, o sea, un lenguaje interpretativo (Como markdown). Entonces el objetivo de este tipo de lenguaje es escribir texto y que este texto sea interpretado por un programa y muestre el resultado que queremos. Con este lenguaje nosotros podemos \"Armar\" la estructura de alguna pagina web que nosotros querramos crear.\n",
    "## Estructura de una etiqueta\n",
    "En HTML cada elemento esta definido por etiquetas. Para abrir una etiqueta se utiliza el simbolo **\"<\"** y dentro de el simbolo se escribe algun nombre, y luego se cierra."
   ]
  },
  {
   "cell_type": "code",
   "execution_count": null,
   "metadata": {
    "vscode": {
     "languageId": "html"
    }
   },
   "outputs": [],
   "source": [
    "<tag>Contenido</tag>"
   ]
  },
  {
   "cell_type": "markdown",
   "metadata": {},
   "source": [
    "Hay que tener en cuenta que TODAS LAS ETIQUETAS TIENEN UNA FUNCION, asi que uno debe saber el como utilizarlas. \n",
    "\n",
    "## Estructura de una pagina web\n",
    "Toda pagina web debe tener una estructura, la cual es la siguiente:"
   ]
  },
  {
   "cell_type": "code",
   "execution_count": null,
   "metadata": {
    "vscode": {
     "languageId": "html"
    }
   },
   "outputs": [],
   "source": [
    "<!DOCTYPE html> <!-- Esta etiqueta define la version de HTML, debe estar siempre-->\n",
    "<html lang=\"en\"> <!-- Esta es una etiqueta que define que todo lo que este dentro sera una pagina web-->\n",
    "    <!--Aqui dentro va todo el contenido, por eso esta identado.-->\n",
    "\n",
    "</html> <!--Termino de la etiqueta-->"
   ]
  },
  {
   "cell_type": "markdown",
   "metadata": {},
   "source": [
    "Toda estructura de pagina web esta compuesta por \"head\" que le dice a la pag. web mucha informacion sobre como esta creada la pagina web. Toda esta informacion no la puede ver la pagina web. \\\n",
    "Un ejemplo seria:"
   ]
  },
  {
   "cell_type": "code",
   "execution_count": null,
   "metadata": {
    "vscode": {
     "languageId": "html"
    }
   },
   "outputs": [],
   "source": [
    "<!DOCTYPE html> <!-- Esta etiqueta define la version de HTML, debe estar siempre-->\n",
    "<html lang=\"en\"> <!-- Esta es una etiqueta que define que todo lo que este dentro sera una pagina web-->\n",
    "\n",
    "    <!--Aqui dentro va todo el contenido, por eso esta identado.-->\n",
    "    <head>\n",
    "        <title>Primera pag. web</title> <!--Esto crea el titulo de la pagina web, idealmente una descripcion-->\n",
    "    </head>\n",
    "</html>"
   ]
  },
  {
   "cell_type": "markdown",
   "metadata": {},
   "source": [
    "Ademas de \"head\", toda pagina web debe tener \"body\". Esta etiqueta contiene todo el apartado visual de la pagina web, ya sea la informacion, titulos, etc. En resumen toda la pagina web se construye dentro de body."
   ]
  },
  {
   "cell_type": "code",
   "execution_count": null,
   "metadata": {
    "vscode": {
     "languageId": "html"
    }
   },
   "outputs": [],
   "source": [
    "<!DOCTYPE html> <!-- Esta etiqueta define la version de HTML, debe estar siempre-->\n",
    "<html lang=\"en\"> <!-- Esta es una etiqueta que define que todo lo que este dentro sera una pagina web-->\n",
    "\n",
    "    <!--Aqui dentro va todo el contenido, por eso esta identado.-->\n",
    "    <head>\n",
    "        <title>Primera pag. web</title> <!--Esto crea el titulo de la pagina web, idealmente una descripcion-->\n",
    "    </head>\n",
    "    <body>\n",
    "       <!--Aqui va toda la estructura de la pagina web-->\n",
    "    </body>\n",
    "</html>"
   ]
  },
  {
   "cell_type": "markdown",
   "metadata": {},
   "source": [
    "## Parrafos y encabezados\n",
    "Los parrafos en html se crean con la etiqueta **\"p\"**, por lo que dentro de estos se escribe todo el contenido de la página. La diferencia de escribir en un parrafo que escribir sin este es que cada parrafo debe describir algo especifico, por lo que da un orden al momento de escribir una pagina web (ademas de otras funciones internas que tiene la etiqueta).\n",
    "\n",
    "Ademas de los parrafos existen los encabezados, los cuales tienen como etiqueta **\"h\"** y un numero desde el 1 al 6 **(h1, h2, h3...)** de los cuales el 1 es el encabezado de mayor tamaño y el 6 el de menor tamaño."
   ]
  },
  {
   "cell_type": "code",
   "execution_count": null,
   "metadata": {
    "vscode": {
     "languageId": "html"
    }
   },
   "outputs": [],
   "source": [
    "<!DOCTYPE html> <!-- Esta etiqueta define la version de HTML, debe estar siempre-->\n",
    "<html lang=\"en\"> <!-- Esta es una etiqueta que define que todo lo que este dentro sera una pagina web-->\n",
    "    <head>\n",
    "        <title>Parrafos y encabezados</title>\n",
    "    </head>\n",
    "    <body>\n",
    "        <h1>Titulo h1</h1> <!--Por pagina web el h1 se utiliza 1 sola vez-->\n",
    "        \n",
    "        <!--Todos los demas encabezados si se pueden utilizar mas de una vez,\n",
    "        pero deben tener en cuenta que h1 solo es 1 vez-->\n",
    "        <h2>subtitulo h2</h2>\n",
    "        <h3>subtitulo h3</h3>\n",
    "        <h4>subtitulo h4</h4>\n",
    "        <h5>subtitulo h5</h5>\n",
    "        <h6>subtitulo h6</h6>\n",
    "       <p> <!--Esto es un parrafo, todo lo que este dentro de el será un parrafo-->\n",
    "        Aqui estoy escribiendo informacion dentro del párrafo\n",
    "        \n",
    "       </p> <!--Aqui termina el párrafo-->\n",
    "    </body>\n",
    "</html>"
   ]
  },
  {
   "cell_type": "markdown",
   "metadata": {},
   "source": [
    "El uso de los encabezados es para dividir por secciones algunos temas especificos en una pagina web y asi mantener un orden y que sea mucho mas legible para el lector. Su uso seria algo relacionado con esto:\n",
    "<div align=\"center\">\n",
    "  <img src=\"https://i.pinimg.com/736x/eb/2b/cf/eb2bcf5184dd5b3cedc9bd908adc28f5.jpg\" alt=\"Imagen de ejemplo parrafos\" width=\"300\" height=\"300\" />\n",
    "</div>"
   ]
  },
  {
   "cell_type": "markdown",
   "metadata": {},
   "source": [
    "## Listas\n",
    "En HTML existen 2 tipos de listas.. las ordenadas y las desordenadas. \n",
    "* **listas ordenadas:** Para escribir una lista ordenada su etiqueta se denota por **\"ol\"** que se refiere a \"orderer list\". Dentro de una lista existen mini elementos llamados list item (se denota como **\"li\"**) y sirven para listar elementos de manera ordenada y puede usarse por ejemplo, para crear una receta de cocina, un top sobre algun tema especifico, etc. "
   ]
  },
  {
   "cell_type": "code",
   "execution_count": null,
   "metadata": {
    "vscode": {
     "languageId": "html"
    }
   },
   "outputs": [],
   "source": [
    "<!DOCTYPE html>\n",
    "<html>\n",
    "    <head>\n",
    "        <title>Listas en HTML</title>\n",
    "    </head>\n",
    "\n",
    "    <body>\n",
    "        <ol> <!--Aqui empieza la lista ordenada-->\n",
    "            <li></li> <!--Este es el 1er elemento de la lista-->\n",
    "            <li></li> <!--Este es el 2do elemento de la lista-->\n",
    "            <li></li> <!--Este es el 3er elemento de la lista-->\n",
    "        </ol><!--Fin de la lista ordenada-->\n",
    "    </body>\n",
    "</html>\n"
   ]
  },
  {
   "cell_type": "markdown",
   "metadata": {},
   "source": [
    "Como se ve en el codigo, se crea una lista que contiene elementos que no tienen nada dentro. Sin embargo al momento de cargar la pagina web aparecera una lista enumerada que no tiene ningun elemento.\n",
    "\n",
    "* **Listas desordenadas:** Para escribir una lista desordenada se utiliza la etiqueta **\"ul\"** que se refiere a \"unorderer list\". Esta lista tambien utiliza **\"li\"** pero a diferencia de la anterior es que en estas listas los elementos no apareceran enumerados, pues al final el orden no importa. Estas se usan por ejemplo en el menú de Github, menu de acciones, etc."
   ]
  },
  {
   "cell_type": "code",
   "execution_count": null,
   "metadata": {
    "vscode": {
     "languageId": "html"
    }
   },
   "outputs": [],
   "source": [
    "<!DOCTYPE html>\n",
    "<html>\n",
    "    <head>\n",
    "        <title>Listas en HTML</title>\n",
    "    </head>\n",
    "\n",
    "    <body>\n",
    "        <ul> <!--Aqui empieza la lista desordenada-->\n",
    "            <li></li> <!--Este es el 1er elemento de la lista-->\n",
    "            <li></li> <!--Este es el 2do elemento de la lista-->\n",
    "            <li></li> <!--Este es el 3er elemento de la lista-->\n",
    "        </ul><!--Fin de la lista desordenada-->\n",
    "    </body>\n",
    "</html>"
   ]
  },
  {
   "cell_type": "markdown",
   "metadata": {},
   "source": [
    "Entonces un codigo con una lista ordenada y desordenada se veria de esta forma:"
   ]
  },
  {
   "cell_type": "code",
   "execution_count": null,
   "metadata": {
    "vscode": {
     "languageId": "html"
    }
   },
   "outputs": [],
   "source": [
    "<!DOCTYPE html>\n",
    "<html>\n",
    "    <head>\n",
    "        <title>Listas en HTML</title>\n",
    "    </head>\n",
    "\n",
    "    <body>\n",
    "        <h2>Listas ordenadas</h2>\n",
    "        <ol> <!--Aqui empieza la lista desordenada-->\n",
    "            <li>Elemento 1</li> <!--Este es el 1er elemento de la lista-->\n",
    "            <li>Elemento 2</li> <!--Este es el 2do elemento de la lista-->\n",
    "            <li>Elemento 3</li> <!--Este es el 3er elemento de la lista-->\n",
    "        </ol><!--Fin de la lista desordenada-->\n",
    "\n",
    "        <h2>Listas desordenadas</h2>\n",
    "        <ul> <!--Aqui empieza la lista desordenada-->\n",
    "            <li>Elemento 1</li> <!--Este es el 1er elemento de la lista-->\n",
    "            <li>Elemento 2</li> <!--Este es el 2do elemento de la lista-->\n",
    "            <li>Elemento 3</li> <!--Este es el 3er elemento de la lista-->\n",
    "        </ul><!--Fin de la lista desordenada-->\n",
    "\n",
    "    </body>\n",
    "</html>"
   ]
  },
  {
   "cell_type": "markdown",
   "metadata": {},
   "source": [
    "## Enlaces (Basico)\n",
    "Enlaces o hipervinculos son aquellos que te permite \"anclar\" un recurso especifico y saber donde lo deberá ir a buscar. La etiequeta que se utiliza para crear enlaces es **\"a\"**, pero si uno escribe dentro de esa etiqueta va a obtener un texto simple, que no es clickeable y no hace nada..."
   ]
  },
  {
   "cell_type": "code",
   "execution_count": null,
   "metadata": {
    "vscode": {
     "languageId": "html"
    }
   },
   "outputs": [],
   "source": [
    "<!DOCTYPE html>\n",
    "<html>\n",
    "    <head>\n",
    "        <title>Enlaces en HTML</title>\n",
    "    </head>\n",
    "\n",
    "    <body>\n",
    "        <a>Este es un enlace inutil</a>\n",
    "\n",
    "    </body>\n",
    "</html>"
   ]
  },
  {
   "cell_type": "markdown",
   "metadata": {},
   "source": [
    "Si nosotros queremos que ese enlace nos lleve a otra pagina o realice una accion, se debem conocer los **atributos**. Los atributos son caracteristicas de los elementos que permiten modificar la accion o atributos visuales de cada texto que nosotros escribimos, ya sea el color, tamaño, sombra... (aunque esto que se menciona se realiza con CSS) o tambien agregar una funcion a la etiqueta (que es lo que buscamos). Para hacer que una etiqueta se pueda enlazar se utiliza **\" href=\"enlace\" \"** para que asi el texto sea \"clickeable\"."
   ]
  },
  {
   "cell_type": "code",
   "execution_count": null,
   "metadata": {
    "vscode": {
     "languageId": "html"
    }
   },
   "outputs": [],
   "source": [
    "<!DOCTYPE html>\n",
    "<html>\n",
    "    <head>\n",
    "        <title>Enlaces en HTML</title>\n",
    "    </head>\n",
    "\n",
    "    <body>\n",
    "        <a href=\"youtube.com/soydalto\"> Funcionará?</a>\n",
    "<!--Si yo al cargar la pagina hago click, me llevara al canal que deseo?-->\n",
    "    </body>\n",
    "</html>"
   ]
  },
  {
   "cell_type": "markdown",
   "metadata": {},
   "source": [
    "Si se intenta clickear el enlace este NO FUNCIONARÁ, pues ahi se esta buscando una ruta local, o sea, la pagina busca una carpeta que se llame \"youtube.com\" para asi poder cargarla pero como no existe, no carga. Para que cargue la pagina deseada hay que poner el link completo, o sea:"
   ]
  },
  {
   "cell_type": "code",
   "execution_count": null,
   "metadata": {
    "vscode": {
     "languageId": "html"
    }
   },
   "outputs": [],
   "source": [
    "<!DOCTYPE html>\n",
    "<html>\n",
    "    <head>\n",
    "        <title>Enlaces en HTML</title>\n",
    "    </head>\n",
    "\n",
    "    <body>\n",
    "        <a href=\"https://youtube.com/soydalto\"> Funcionará?</a>\n",
    "<!--Ahora deberia cargar, cierto?\n",
    "Es bueno saber que no es necesario anteponer htpps:, pues basta con poner //\n",
    "para que el enlace funcione de igual manera. Te invito a probar eso :D\n",
    "igualmente es recomendable anteponer htpps: por temas de seguridad y es una BUENA PRACTICA-->\n",
    "    </body>\n",
    "</html>"
   ]
  },
  {
   "cell_type": "markdown",
   "metadata": {},
   "source": [
    "Ademas de redirigir a otra pagina, tambien se pueden enlazar paginas que nosotros hayamos creado usando rutas locales. A continuacion se mostraran 3 codigos de 3 paginas distintas que estaran en la carpeta ```/enlaces_entre_pag``` para que asi puedan ver como es el enlace entre estas."
   ]
  },
  {
   "cell_type": "code",
   "execution_count": null,
   "metadata": {
    "vscode": {
     "languageId": "html"
    }
   },
   "outputs": [],
   "source": [
    "<!--Codigo de la pagina 1-->\n",
    "\n",
    "<!DOCTYPE html>\n",
    "<html>\n",
    "    <head>\n",
    "        <title>Enlaces 1</title>\n",
    "    </head>\n",
    "\n",
    "    <body>\n",
    "        <h1>Esta es la pagina 1</h1>\n",
    "        <p>\n",
    "            Gracias por abrir la pagina 1, apreta cualquier link :)\n",
    "        </p>\n",
    "        <a href=\"enlaces_2.html\"> Pagina 2</a>\n",
    "        <a href=\"enlaces_3.html\"> Pagina 3</a>\n",
    "    </body>\n",
    "</html>"
   ]
  },
  {
   "cell_type": "code",
   "execution_count": null,
   "metadata": {
    "vscode": {
     "languageId": "html"
    }
   },
   "outputs": [],
   "source": [
    "<!--Codigo de la pagina 2-->\n",
    "<!DOCTYPE html>\n",
    "<html>\n",
    "    <head>\n",
    "        <title>Enlaces 2</title>\n",
    "    </head>\n",
    "\n",
    "    <body>\n",
    "        <h1>Esta es la pagina 2</h1>\n",
    "        <p>\n",
    "            Gracias por abrir la pagina 2, apreta cualquier link :)\n",
    "        </p>\n",
    "        <a href=\"enlaces_1.html\"> Pagina 1</a>\n",
    "        <a href=\"enlaces_3.html\"> Pagina 3</a>\n",
    "    </body>\n",
    "</html>"
   ]
  },
  {
   "cell_type": "code",
   "execution_count": null,
   "metadata": {
    "vscode": {
     "languageId": "html"
    }
   },
   "outputs": [],
   "source": [
    "<!--Codigo de la pagina 3-->\n",
    "<!DOCTYPE html>\n",
    "<html>\n",
    "    <head>\n",
    "        <title>Enlaces 3</title>\n",
    "    </head>\n",
    "\n",
    "    <body>\n",
    "        <h1>Esta es la pagina 3</h1>\n",
    "        <p>\n",
    "            Gracias por abrir la pagina 3, apreta cualquier link :)\n",
    "        </p>\n",
    "        <a href=\"enlaces_1.html\"> Pagina 1</a>\n",
    "        <a href=\"enlaces_2.html\"> Pagina 2</a>\n",
    "    </body>\n",
    "</html>"
   ]
  },
  {
   "cell_type": "markdown",
   "metadata": {},
   "source": [
    "Si ejecutas algun codigo que este en la carpeta, al momento de hacer click te redirigira a la pagina que seleccionaste. Sin embargo la pagina \"cambia\" y no se abre otra.. es posible abrir una pagina al apretar un link? SI, para eso hay que agregar el atributo **\"target\"**. Este valor tiene por defecto **\"self\"**, o sea, que todos los enlaces que se abran serán en la misma pagina, pero lo que nosotros buscamos es que se abra otra distinta, por eso, el valor por defecto debe ser **\"_blank\"** y asi cambiará de pagina. Entonces modificando el codigo del enlace 1 tenemos que:"
   ]
  },
  {
   "cell_type": "code",
   "execution_count": null,
   "metadata": {
    "vscode": {
     "languageId": "html"
    }
   },
   "outputs": [],
   "source": [
    "<!--Codigo modificado de la pagina 1-->\n",
    "<!DOCTYPE html>\n",
    "<html>\n",
    "    <head>\n",
    "        <title>Enlaces 1</title>\n",
    "    </head>\n",
    "\n",
    "    <body>\n",
    "        <h1>Esta es la pagina 1</h1>\n",
    "        <p>\n",
    "            Gracias por abrir la pagina 1, apreta cualquier link :)\n",
    "        </p>\n",
    "        <a href=\"enlaces_2.html\"> Pagina 2</a>\n",
    "        <a href=\"enlaces_3.html\"> Pagina 3</a>\n",
    "\n",
    "        <h2>Enlace con target _blank</h2>\n",
    "        <a href=\"enlaces_2.html\" target=\"_blank\">Pagina 2 pero cambiando la pestaña</a>\n",
    "    </body>\n",
    "</html>\n",
    "<!--Copien y peguen este codigo en el codigo de la pagina 1 y prueben para ver que pasa-->"
   ]
  },
  {
   "cell_type": "markdown",
   "metadata": {},
   "source": [
    "Un ultimo atributo que es interesante saber es sobre **\"title\"**. Este nos permite escribir una descripcion a un enlace, tag, etc. y que al momento de pasar el cursor sobre el texto mostrará lo escrito."
   ]
  },
  {
   "cell_type": "code",
   "execution_count": null,
   "metadata": {
    "vscode": {
     "languageId": "html"
    }
   },
   "outputs": [],
   "source": [
    "<!DOCTYPE html>\n",
    "<html>\n",
    "    <head>\n",
    "        <title>Enlaces en HTML</title>\n",
    "    </head>\n",
    "\n",
    "    <body>\n",
    "        <a href=\"//youtube.com/soydalto\" title=\"Canal YT del autor\"> Funcionará?</a>\n",
    "<!--Ahora deberia cargar, cierto?-->\n",
    "    </body>\n",
    "</html>"
   ]
  },
  {
   "cell_type": "markdown",
   "metadata": {},
   "source": [
    "Al ejecutar el codigo y pasar el cursor sobre el enlace, se verá un texto parecido a esto:\n",
    "<div align=\"center\">\n",
    "  <img src=\"../../imagenes/ejemplo_cursor.png\" alt=\"Texto alternativo\" width=\"400\" height=\"200\" />\n",
    "</div>\n",
    "\n",
    "Como mencioné anteriormente, no solo sirve en los enlaces, sino que tambien sirve en las imagenes, titulos, formularios, botones, etc. Este atributo sirve excelente para personas ciegas, pues provee informacion que el lector de paginas podra analizar y entregarles la informacion, ademas el utilizar esto es una buena practica."
   ]
  },
  {
   "cell_type": "markdown",
   "metadata": {},
   "source": [
    "## Imagenes y rutas\n",
    "Las imagenes en HTML se realizan con un tipo de etiqueta especifica. Existen diversos tipos de etiqueta, ya sean etiquetas de bloque o etiquetas de linea.. pero hay 2 tipos de etiquetas que se diferencian segun codigo. Estas son las etiquetas que **necesitan tener un contenido adentro**, como la etiqueta \"p\", \"b\", \"h1\", etc. y las que **no necesitan tener contenido**, como puede ser las etiquetas de imagen, que son las que veremos a continuacion.\n",
    "\n",
    "La etiqueta necesaria para cargar imagenes se llama **\"img\"** y esta debe tener un atributo llamado **\"src\"** (source) que recibe el nombre (tecnicamente es la ruta pero lo veremos mas adelante🤓☝️) de la imagen que deseamos cargar."
   ]
  },
  {
   "cell_type": "code",
   "execution_count": null,
   "metadata": {
    "vscode": {
     "languageId": "html"
    }
   },
   "outputs": [],
   "source": [
    "<!DOCTYPE html>\n",
    "    <head>\n",
    "        <title>Imagenes</title> \n",
    "    </head>\n",
    "    <body>\n",
    "       <img src=\"../../../imagenes/programar.jpg\"> <!--Esto es la ruta de la imagen...\n",
    "                                               las rutas se explicaran mas adelante -->\n",
    "    </body>\n",
    "</html>"
   ]
  },
  {
   "cell_type": "markdown",
   "metadata": {},
   "source": [
    "¿Que pasa si por algun error la imagen no carga? Para eso se utiliza el atributo **\"alt\"** (proveniente de \"alternative\") que sirve para poner un texto SOLO EN CASO de que la imagen no cargue correctamente."
   ]
  },
  {
   "cell_type": "code",
   "execution_count": null,
   "metadata": {
    "vscode": {
     "languageId": "html"
    }
   },
   "outputs": [],
   "source": [
    "<!DOCTYPE html>\n",
    "    <head>\n",
    "        <title>Imagenes</title> \n",
    "    </head>\n",
    "    <body>\n",
    "       <img src=\"../../../imagenes/programar.jp\" alt=\"Alguien programando muy a gusto\"> \n",
    "       <!--Esto es la ruta de la imagen... las rutas se explicaran mas adelante -->\n",
    "    </body>\n",
    "</html>\n",
    "<!-- La imagen no va a cargar, pues el nombre de la imagen esta mal dado, por ende mostrará el mensaje-->"
   ]
  },
  {
   "cell_type": "markdown",
   "metadata": {},
   "source": [
    "Ahora bien, se habrán percatado que al momento de poner la imagen no coloqué unicamente el nombre, sino que coloqué algo mas.. a eso se le denominan **rutas**. Las rutas son las direcciones donde se encontrará un archivo, carpeta, pagina web, etc. Existen 2 tipos de rutas:\n",
    "1. **Rutas absolutas:** Las rutas absolutas son aquellas donde SIEMPRE te va a llevar al mismo archhivo, carpeta, pag web, etc. independiente de donde estes ejecutando el archivo. Un ejemplo de ruta absoluta es \"https://www.youtube.com/watch?v=ELSm-G201Ls&t=5178s\", pues esto siempre te llevará al video que se muestra.\n",
    "\n",
    "2. **Rutas relativas:** Estas rutas va a depender de donde esté el archivo que nosotros querramos para que se pueda ejecutar correctamente algun archivo, carpeta, pag web, etc. Estas rutas son las mas utilizadas en la programacion y es una buena practica usarlas.\n",
    "\n",
    "Al momento de intentar buscar un archivo tenemos 3 casos posibles:\n",
    "* Que el archivo que nosotros queremos esté en la misma carpeta que el codigo\n",
    "* Que el archivo esté una o más carpetas \"atras\"\n",
    "* Que el archivo esté una o mas carpetas \"por delante\".\n",
    "Vamos a analizar los 3 casos con codigo.\n",
    "\n",
    "### Caso 1 (Archivo dentro de la carpeta del codigo)\n",
    "Si nosotros queremos llamar a una imagen (usaremos de ejemplo la misma que teniamos), nosotros solamente debemos poner el nombre para que la imagen (o cualquier archivo que querramos) se pueda mostrar (ejecutar)."
   ]
  },
  {
   "cell_type": "code",
   "execution_count": null,
   "metadata": {
    "vscode": {
     "languageId": "html"
    }
   },
   "outputs": [],
   "source": [
    "<!DOCTYPE html>\n",
    "    <head>\n",
    "        <title>Imagenes</title> \n",
    "    </head>\n",
    "    <body>\n",
    "       <img src=\"programar.jpg\" alt=\"Alguien programando muy a gusto\"> \n",
    "       <!--Suponiendo que la imagen está dentro de la carpeta que tiene el codigo-->\n",
    "    </body>\n",
    "</html>\n",
    "<!--Prueben moviendo la imagen dentro de la carpeta que tiene el codigo \"imagenes.html\" para ver que pasa-->"
   ]
  },
  {
   "cell_type": "markdown",
   "metadata": {},
   "source": [
    "### Caso 2 (Archivo dentro de otra carpeta que esta mas \"adelante\")\n",
    "En este caso nosotros debemos colocar la ruta del archivo para llegar a la imagen deseada. Supongamos que dentro de la carpeta ```/codigos_html``` existe otra llamada ```/ruta_img``` que contiene la imagen deseada. Para nosotros acceder a la imagen debemos anteponer el nombre de la carpeta (ruta_img) y luego colocar el nombre de la imagen. Si dentro de esa carpeta existen más carpetas se deberá poner todos los nombres de la carpeta hasta llegar a la imagen."
   ]
  },
  {
   "cell_type": "code",
   "execution_count": null,
   "metadata": {
    "vscode": {
     "languageId": "html"
    }
   },
   "outputs": [],
   "source": [
    "<!DOCTYPE html>\n",
    "    <head>\n",
    "        <title>Imagenes</title> \n",
    "    </head>\n",
    "    <body>\n",
    "       <img src=\"ruta_img/programar.jpg\" alt=\"Alguien programando muy a gusto\"> \n",
    "       <!--Suponiendo que existe esa carpeta-->\n",
    "    </body>\n",
    "</html>\n",
    "<!--Creen otras carpetas dentro de esa carpeta para que coloquen la imagen y vean lo que pasa-->"
   ]
  },
  {
   "cell_type": "markdown",
   "metadata": {},
   "source": [
    "### Caso 3 (Archivo dentro de otra carpeta que está \"mas atras\")\n",
    "Este es el ultimo caso posible. Si nuestra imagen está en una carpeta que está fuera de nuestra carpeta del codigo, nosotros al momento de buscar la ruta debemos anteponer ```../```, que significa que estamos saliendo de esa carpeta para buscar otra. Entonces, nosotros tenemos un codigo que está dentro de ```CURSOS_HTML/html_basico/codigos_html``` y debemos obtener una imagen que esta en ```imagenes/```. Para eso debemos anteponer ```../``` tantas veces sea necesario como para llegar a la ubicacion de la carpeta de la imagen, para asi acceder a esa carpeta y a la imagen."
   ]
  },
  {
   "cell_type": "markdown",
   "metadata": {},
   "source": [
    "<!DOCTYPE html>\n",
    "    <head>\n",
    "        <title>Imagenes</title> \n",
    "    </head>\n",
    "    <body>\n",
    "       <img src=\"../../../imagenes/programar.jpg\">\n",
    "    </body>\n",
    "    <!--La imagen esta en esa carpeta, y esa carpeta está 3 veces mas atrás que el codigo principal.\n",
    "    Por ende, se pone ../ 3 veces para asi llegar al nivel de la carpeta deseada y poder ingresar.-->\n",
    "\n",
    "</html>\n"
   ]
  },
  {
   "cell_type": "markdown",
   "metadata": {},
   "source": [
    "## Formularios\n",
    "Los formularios son una de los objetos mas importantes del desarrollo web, pues en estos uno puede recopilar los datos del usuario que este usando la pagina. Ya sea el nombre, color, mail, etc. y dependiendo del tipo de dato que querramos recopilar utilizamos un input diferente (Input se le denomina a la \"entrada de datos a un sistema informatico\"). \n",
    "\n",
    "Para poder crear un formulario en HTML se utiliza la etiqueta **\"form\"**, el cual construye un formulario. Nosotros lo que debemos hacer es definir los campos de texto que va a tener, lo que se le pedira al usuario. Para eso debemos usar la etiqueta **\"input\"** seguido de **\"type\"**, el cual definirá que tipo de input va a ser (ya sea un boton, texto, colores, numeros, etc.)\n"
   ]
  },
  {
   "cell_type": "code",
   "execution_count": null,
   "metadata": {
    "vscode": {
     "languageId": "html"
    }
   },
   "outputs": [],
   "source": [
    "<!DOCTYPE html>\n",
    "    <head>\n",
    "        <title>Formularios</title>\n",
    "    </head>\n",
    "\n",
    "    <body>\n",
    "        <form>\n",
    "            <!--Aqui se muestran distintos tipos de input-->\n",
    "            <h2>Input de texto</h2>\n",
    "            <input type=\"text\">\n",
    "\n",
    "            <h2>Input de color</h2>\n",
    "            <input type=\"color\">\n",
    "\n",
    "            <h2>Boton</h2>\n",
    "            <input type=\"button\">\n",
    "\n",
    "        </form>\n",
    "\n",
    "    </body>\n",
    "</html>"
   ]
  },
  {
   "cell_type": "markdown",
   "metadata": {},
   "source": [
    "A continuacion se mostraran los tipos de input mas comunes:"
   ]
  },
  {
   "cell_type": "code",
   "execution_count": null,
   "metadata": {
    "vscode": {
     "languageId": "html"
    }
   },
   "outputs": [],
   "source": [
    "<!DOCTYPE html>\n",
    "    <head>\n",
    "        <title>Formularios</title>\n",
    "    </head>\n",
    "\n",
    "    <body>\n",
    "        <form>\n",
    "            <!--Aqui se muestran distintos tipos de input-->\n",
    "            <h2>Input de texto</h2>\n",
    "            <input type=\"text\"> <!--Este recibe texto-->\n",
    "\n",
    "            <h2>Input de email</h2> <!--Igual que texto pero debe recibir en formato email (@...)-->\n",
    "            <input type=\"email\">\n",
    "\n",
    "            <h2>input de password</h2> <!--Es lo mismo que text pero el texto se encuentra oculto-->\n",
    "            <input type=\"password\">\n",
    "\n",
    "            <h2>checkbox</h2>\n",
    "            <input type=\"checkbox\"> <!--Sirve para tildar/destildar \n",
    "            (usado para confirmar terminos y condiciones por ejemplo)-->\n",
    "\n",
    "            <h2>Radio</h2>\n",
    "            <input type=\"radio\"> <!--Al momento de configurar sirve para elegir 1 opcion\n",
    "            entre varias-->\n",
    "\n",
    "            <h2>Submit</h2>\n",
    "            <input type=\"submit\"> <!--Sirve para enviar algun dato (funciona como un botón)-->\n",
    "\n",
    "            <h2>File</h2>\n",
    "            <input type=\"file\"> <!--Nos permite seleccionar un archivo para enviar-->\n",
    "\n",
    "            <h2>Date</h2>\n",
    "            <input type=\"date\"> <!--Nos permite seleccionar una fecha-->\n",
    "\n",
    "        </form>\n",
    "\n",
    "    </body>\n",
    "</html>"
   ]
  },
  {
   "cell_type": "markdown",
   "metadata": {},
   "source": [
    "Todos esos datos sirven para comprobar que tienes una cuenta existente en alguna pagina web, revisar si estas en una base de datos, si el correo que ingresaste existe y despues pedir la contraseña para ingresar a tu cuenta, etc.\n",
    "\n",
    "Es importante saber que, ademas del \"type\", existen 4 atributos muy importantes.\n",
    "1. **required:** Este atributo sirve para obligar al usuario a que debe rellenar un input para asi poder mandar la información. Utilizado normalmente, por ejemplo, al momento de pedir un E-mail, pues si no le entregas nada no puede avanzar al campo de \"contraseñas\". Este atributo no es visible por el usuario."
   ]
  },
  {
   "cell_type": "code",
   "execution_count": null,
   "metadata": {
    "vscode": {
     "languageId": "html"
    }
   },
   "outputs": [],
   "source": [
    "<!DOCTYPE html>\n",
    "    <head>\n",
    "        <title>Formularios</title>\n",
    "    </head>\n",
    "\n",
    "    <body>\n",
    "        <form>\n",
    "            <!--Aqui se muestran distintos tipos de input-->\n",
    "            <h2>Input de texto</h2>\n",
    "            <input type=\"text\" required>\n",
    "\n",
    "            <h2>Input de email</h2> \n",
    "            <input type=\"email\" required>\n",
    "\n",
    "            <h2>Submit</h2>\n",
    "            <input type=\"submit\"> <!--Si intentan mandar los datos sin rellenar no te dejará-->\n",
    "\n",
    "        </form>\n",
    "\n",
    "    </body>\n",
    "</html>"
   ]
  },
  {
   "cell_type": "markdown",
   "metadata": {},
   "source": [
    "2. **name:** Este atributo es importante porque es un \"identificador\" de los input y sirve para que al momento de mandarle un \"campo\" al servidor, este recibirá \"algo\" que deberá procesar. Al usar **\"name\"**, nosotros definimos ese \"algo\" con un nombre para así saber que es lo que está recibiendo el servidor de manera mas precisa y asi poder comparar los datos. Este atributo no es visible por el usuario."
   ]
  },
  {
   "cell_type": "code",
   "execution_count": null,
   "metadata": {
    "vscode": {
     "languageId": "html"
    }
   },
   "outputs": [],
   "source": [
    "<!DOCTYPE html>\n",
    "    <head>\n",
    "        <title>Formularios</title>\n",
    "    </head>\n",
    "\n",
    "    <body>\n",
    "        <form>\n",
    "            <!--Aqui se muestran distintos tipos de input-->\n",
    "            <h2>Input de texto</h2>\n",
    "            <input type=\"text\" required name=\"username\">\n",
    "\n",
    "            <h2>Input de email</h2> \n",
    "            <input type=\"email\" required name=\"email\">\n",
    "\n",
    "            <h2>Submit</h2>\n",
    "            <input type=\"submit\"> <!--Si intentan mandar los datos sin rellenar no te dejará-->\n",
    "\n",
    "        </form>\n",
    "\n",
    "    </body>\n",
    "</html>"
   ]
  },
  {
   "cell_type": "markdown",
   "metadata": {},
   "source": [
    "3. **placeholder:** Este atributo es visible por el usuario y sirve para escribir un texto que se borra al momento de que el usuario escriba algo. Este atributo sirve para dar algun ejemplo de qué es lo que se debe hacer en ese campo. "
   ]
  },
  {
   "cell_type": "code",
   "execution_count": null,
   "metadata": {
    "vscode": {
     "languageId": "html"
    }
   },
   "outputs": [],
   "source": [
    "<!DOCTYPE html>\n",
    "    <head>\n",
    "        <title>Formularios</title>\n",
    "    </head>\n",
    "\n",
    "    <body>\n",
    "        <form>\n",
    "            <!--Aqui se muestran distintos tipos de input-->\n",
    "            <h2>Input de texto</h2>\n",
    "            <input type=\"text\" required name=\"username\" placeholder=\"Escribe tu nombre\">\n",
    "\n",
    "            <h2>Input de email</h2> \n",
    "            <input type=\"email\" required name=\"email\" placeholder=\"correo@gmail.com\">\n",
    "\n",
    "            <h2>Submit</h2>\n",
    "            <input type=\"submit\"> <!--Si intentan mandar los datos sin rellenar no te dejará-->\n",
    "\n",
    "        </form>\n",
    "\n",
    "    </body>\n",
    "</html>"
   ]
  },
  {
   "cell_type": "markdown",
   "metadata": {},
   "source": [
    "Existe otro atributo llamado **\"value\"** que se explicará mas adelante para que se utiliza, pero en resumen es lo que el servidor recibe. \n",
    "\n",
    "Como dato extra, si nosotros necesitamos que un campo tenga un minimo o un maximo de caracteres, se puede utilizar **\"minlength\"** y **\"maxlength\"** para definir un maximo y/o minimo de caracteres. \n",
    "\n",
    "# Felicidades por llegar hasta el final 🥳🥳🥳🥳. Ahora sabes lo basico de como programar en HTML. Te invito a leer el notebook ```css_basico.html``` ubicado en la carpeta ```css_basico/``` para que así aprendan a darle estilo a sus paginas web 😁😁😁. Gracias por leer hasta el final!!!"
   ]
  }
 ],
 "metadata": {
  "kernelspec": {
   "display_name": "Python 3",
   "language": "python",
   "name": "python3"
  },
  "language_info": {
   "codemirror_mode": {
    "name": "ipython",
    "version": 3
   },
   "file_extension": ".py",
   "mimetype": "text/x-python",
   "name": "python",
   "nbconvert_exporter": "python",
   "pygments_lexer": "ipython3",
   "version": "3.11.7"
  }
 },
 "nbformat": 4,
 "nbformat_minor": 2
}
