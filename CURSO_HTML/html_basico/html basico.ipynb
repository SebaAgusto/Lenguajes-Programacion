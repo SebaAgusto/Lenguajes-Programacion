{
 "cells": [
  {
   "cell_type": "markdown",
   "metadata": {},
   "source": [
    "# Indice HTML básico\n",
    "* [Empezando lo basico de HTML](#empezando-lo-basico-de-html)\n",
    "* [Estructura de una etiqueta](#estructura-de-una-etiqueta)\n",
    "* [Estructura de una pagina web](#estructura-de-una-pagina-web)\n",
    "* [Parrafos y encabezados](#parrafos-y-encabezados)\n",
    "* [listas](#listas)\n",
    "* [Enlaces (Basico)](#enlaces-basico)\n",
    "* [Imagenes y rutas](#imagenes-y-rutas)"
   ]
  },
  {
   "cell_type": "markdown",
   "metadata": {},
   "source": [
    "# Curso de HTML\n",
    "En este notebook se enseñará lo basico de como programar en HTML. Toda la info. es extraida de este [video](https://www.youtube.com/watch?v=ELSm-G201Ls&t=53s). Todos los codigos mostrados en este notebook se encuentran disponibles en la carpeta ```/codigos_html```\n",
    "\n",
    "# Empezando lo basico de HTML\n",
    "HTML es un lenguaje demarcado, o sea, un lenguaje interpretativo (Como markdown). Entonces el objetivo de este tipo de lenguaje es escribir texto y que este texto sea interpretado por un programa y muestre el resultado que queremos. Con este lenguaje nosotros podemos \"Armar\" la estructura de alguna pagina web que nosotros querramos crear.\n",
    "## Estructura de una etiqueta\n",
    "En HTML cada elemento esta definido por etiquetas. Para abrir una etiqueta se utiliza el simbolo **\"<\"** y dentro de el simbolo se escribe algun nombre, y luego se cierra."
   ]
  },
  {
   "cell_type": "code",
   "execution_count": null,
   "metadata": {
    "vscode": {
     "languageId": "html"
    }
   },
   "outputs": [],
   "source": [
    "<tag>Contenido</tag>"
   ]
  },
  {
   "cell_type": "markdown",
   "metadata": {},
   "source": [
    "Hay que tener en cuenta que TODAS LAS ETIQUETAS TIENEN UNA FUNCION, asi que uno debe saber el como utilizarlas. \n",
    "\n",
    "## Estructura de una pagina web\n",
    "Toda pagina web debe tener una estructura, la cual es la siguiente:"
   ]
  },
  {
   "cell_type": "code",
   "execution_count": null,
   "metadata": {
    "vscode": {
     "languageId": "html"
    }
   },
   "outputs": [],
   "source": [
    "<!DOCTYPE html> <!-- Esta etiqueta define la version de HTML, debe estar siempre-->\n",
    "<html lang=\"en\"> <!-- Esta es una etiqueta que define que todo lo que este dentro sera una pagina web-->\n",
    "    <!--Aqui dentro va todo el contenido, por eso esta identado.-->\n",
    "\n",
    "</html> <!--Termino de la etiqueta-->"
   ]
  },
  {
   "cell_type": "markdown",
   "metadata": {},
   "source": [
    "Toda estructura de pagina web esta compuesta por \"head\" que le dice a la pag. web mucha informacion sobre como esta creada la pagina web. Toda esta informacion no la puede ver la pagina web. \\\n",
    "Un ejemplo seria:"
   ]
  },
  {
   "cell_type": "code",
   "execution_count": null,
   "metadata": {
    "vscode": {
     "languageId": "html"
    }
   },
   "outputs": [],
   "source": [
    "<!DOCTYPE html> <!-- Esta etiqueta define la version de HTML, debe estar siempre-->\n",
    "<html lang=\"en\"> <!-- Esta es una etiqueta que define que todo lo que este dentro sera una pagina web-->\n",
    "\n",
    "    <!--Aqui dentro va todo el contenido, por eso esta identado.-->\n",
    "    <head>\n",
    "        <title>Primera pag. web</title> <!--Esto crea el titulo de la pagina web, idealmente una descripcion-->\n",
    "    </head>\n",
    "</html>"
   ]
  },
  {
   "cell_type": "markdown",
   "metadata": {},
   "source": [
    "Ademas de \"head\", toda pagina web debe tener \"body\". Esta etiqueta contiene todo el apartado visual de la pagina web, ya sea la informacion, titulos, etc. En resumen toda la pagina web se construye dentro de body."
   ]
  },
  {
   "cell_type": "code",
   "execution_count": null,
   "metadata": {
    "vscode": {
     "languageId": "html"
    }
   },
   "outputs": [],
   "source": [
    "<!DOCTYPE html> <!-- Esta etiqueta define la version de HTML, debe estar siempre-->\n",
    "<html lang=\"en\"> <!-- Esta es una etiqueta que define que todo lo que este dentro sera una pagina web-->\n",
    "\n",
    "    <!--Aqui dentro va todo el contenido, por eso esta identado.-->\n",
    "    <head>\n",
    "        <title>Primera pag. web</title> <!--Esto crea el titulo de la pagina web, idealmente una descripcion-->\n",
    "    </head>\n",
    "    <body>\n",
    "       <!--Aqui va toda la estructura de la pagina web-->\n",
    "    </body>\n",
    "</html>"
   ]
  },
  {
   "cell_type": "markdown",
   "metadata": {},
   "source": [
    "## Parrafos y encabezados\n",
    "Los parrafos en html se crean con la etiqueta **\"p\"**, por lo que dentro de estos se escribe todo el contenido de la página. La diferencia de escribir en un parrafo que escribir sin este es que cada parrafo debe describir algo especifico, por lo que da un orden al momento de escribir una pagina web (ademas de otras funciones internas que tiene la etiqueta).\n",
    "\n",
    "Ademas de los parrafos existen los encabezados, los cuales tienen como etiqueta **\"h\"** y un numero desde el 1 al 6 **(h1, h2, h3...)** de los cuales el 1 es el encabezado de mayor tamaño y el 6 el de menor tamaño."
   ]
  },
  {
   "cell_type": "code",
   "execution_count": null,
   "metadata": {
    "vscode": {
     "languageId": "html"
    }
   },
   "outputs": [],
   "source": [
    "<!DOCTYPE html> <!-- Esta etiqueta define la version de HTML, debe estar siempre-->\n",
    "<html lang=\"en\"> <!-- Esta es una etiqueta que define que todo lo que este dentro sera una pagina web-->\n",
    "    <head>\n",
    "        <title>Parrafos y encabezados</title>\n",
    "    </head>\n",
    "    <body>\n",
    "        <h1>Titulo h1</h1> <!--Por pagina web el h1 se utiliza 1 sola vez-->\n",
    "        \n",
    "        <!--Todos los demas encabezados si se pueden utilizar mas de una vez,\n",
    "        pero deben tener en cuenta que h1 solo es 1 vez-->\n",
    "        <h2>subtitulo h2</h2>\n",
    "        <h3>subtitulo h3</h3>\n",
    "        <h4>subtitulo h4</h4>\n",
    "        <h5>subtitulo h5</h5>\n",
    "        <h6>subtitulo h6</h6>\n",
    "       <p> <!--Esto es un parrafo, todo lo que este dentro de el será un parrafo-->\n",
    "        Aqui estoy escribiendo informacion dentro del párrafo\n",
    "        \n",
    "       </p> <!--Aqui termina el párrafo-->\n",
    "    </body>\n",
    "</html>"
   ]
  },
  {
   "cell_type": "markdown",
   "metadata": {},
   "source": [
    "El uso de los encabezados es para dividir por secciones algunos temas especificos en una pagina web y asi mantener un orden y que sea mucho mas legible para el lector. Su uso seria algo relacionado con esto:\n",
    "<div align=\"center\">\n",
    "  <img src=\"https://i.pinimg.com/736x/eb/2b/cf/eb2bcf5184dd5b3cedc9bd908adc28f5.jpg\" alt=\"Imagen de ejemplo parrafos\" width=\"300\" height=\"300\" />\n",
    "</div>"
   ]
  },
  {
   "cell_type": "markdown",
   "metadata": {},
   "source": [
    "## Listas\n",
    "En HTML existen 2 tipos de listas.. las ordenadas y las desordenadas. \n",
    "* **listas ordenadas:** Para escribir una lista ordenada su etiqueta se denota por **\"ol\"** que se refiere a \"orderer list\". Dentro de una lista existen mini elementos llamados list item (se denota como **\"li\"**) y sirven para listar elementos de manera ordenada y puede usarse por ejemplo, para crear una receta de cocina, un top sobre algun tema especifico, etc. "
   ]
  },
  {
   "cell_type": "code",
   "execution_count": null,
   "metadata": {
    "vscode": {
     "languageId": "html"
    }
   },
   "outputs": [],
   "source": [
    "<!DOCTYPE html>\n",
    "<html>\n",
    "    <head>\n",
    "        <title>Listas en HTML</title>\n",
    "    </head>\n",
    "\n",
    "    <body>\n",
    "        <ol> <!--Aqui empieza la lista ordenada-->\n",
    "            <li></li> <!--Este es el 1er elemento de la lista-->\n",
    "            <li></li> <!--Este es el 2do elemento de la lista-->\n",
    "            <li></li> <!--Este es el 3er elemento de la lista-->\n",
    "        </ol><!--Fin de la lista ordenada-->\n",
    "    </body>\n",
    "</html>\n"
   ]
  },
  {
   "cell_type": "markdown",
   "metadata": {},
   "source": [
    "Como se ve en el codigo, se crea una lista que contiene elementos que no tienen nada dentro. Sin embargo al momento de cargar la pagina web aparecera una lista enumerada que no tiene ningun elemento.\n",
    "\n",
    "* **Listas desordenadas:** Para escribir una lista desordenada se utiliza la etiqueta **\"ul\"** que se refiere a \"unorderer list\". Esta lista tambien utiliza **\"li\"** pero a diferencia de la anterior es que en estas listas los elementos no apareceran enumerados, pues al final el orden no importa. Estas se usan por ejemplo en el menú de Github, menu de acciones, etc."
   ]
  },
  {
   "cell_type": "code",
   "execution_count": null,
   "metadata": {
    "vscode": {
     "languageId": "html"
    }
   },
   "outputs": [],
   "source": [
    "<!DOCTYPE html>\n",
    "<html>\n",
    "    <head>\n",
    "        <title>Listas en HTML</title>\n",
    "    </head>\n",
    "\n",
    "    <body>\n",
    "        <ul> <!--Aqui empieza la lista desordenada-->\n",
    "            <li></li> <!--Este es el 1er elemento de la lista-->\n",
    "            <li></li> <!--Este es el 2do elemento de la lista-->\n",
    "            <li></li> <!--Este es el 3er elemento de la lista-->\n",
    "        </ul><!--Fin de la lista desordenada-->\n",
    "    </body>\n",
    "</html>"
   ]
  },
  {
   "cell_type": "markdown",
   "metadata": {},
   "source": [
    "Entonces un codigo con una lista ordenada y desordenada se veria de esta forma:"
   ]
  },
  {
   "cell_type": "code",
   "execution_count": null,
   "metadata": {
    "vscode": {
     "languageId": "html"
    }
   },
   "outputs": [],
   "source": [
    "<!DOCTYPE html>\n",
    "<html>\n",
    "    <head>\n",
    "        <title>Listas en HTML</title>\n",
    "    </head>\n",
    "\n",
    "    <body>\n",
    "        <h2>Listas ordenadas</h2>\n",
    "        <ol> <!--Aqui empieza la lista desordenada-->\n",
    "            <li>Elemento 1</li> <!--Este es el 1er elemento de la lista-->\n",
    "            <li>Elemento 2</li> <!--Este es el 2do elemento de la lista-->\n",
    "            <li>Elemento 3</li> <!--Este es el 3er elemento de la lista-->\n",
    "        </ol><!--Fin de la lista desordenada-->\n",
    "\n",
    "        <h2>Listas desordenadas</h2>\n",
    "        <ul> <!--Aqui empieza la lista desordenada-->\n",
    "            <li>Elemento 1</li> <!--Este es el 1er elemento de la lista-->\n",
    "            <li>Elemento 2</li> <!--Este es el 2do elemento de la lista-->\n",
    "            <li>Elemento 3</li> <!--Este es el 3er elemento de la lista-->\n",
    "        </ul><!--Fin de la lista desordenada-->\n",
    "\n",
    "    </body>\n",
    "</html>"
   ]
  },
  {
   "cell_type": "markdown",
   "metadata": {},
   "source": [
    "## Enlaces (Basico)\n",
    "Enlaces o hipervinculos son aquellos que te permite \"anclar\" un recurso especifico y saber donde lo deberá ir a buscar. La etiequeta que se utiliza para crear enlaces es **\"a\"**, pero si uno escribe dentro de esa etiqueta va a obtener un texto simple, que no es clickeable y no hace nada..."
   ]
  },
  {
   "cell_type": "code",
   "execution_count": null,
   "metadata": {
    "vscode": {
     "languageId": "html"
    }
   },
   "outputs": [],
   "source": [
    "<!DOCTYPE html>\n",
    "<html>\n",
    "    <head>\n",
    "        <title>Enlaces en HTML</title>\n",
    "    </head>\n",
    "\n",
    "    <body>\n",
    "        <a>Este es un enlace inutil</a>\n",
    "\n",
    "    </body>\n",
    "</html>"
   ]
  },
  {
   "cell_type": "markdown",
   "metadata": {},
   "source": [
    "Si nosotros queremos que ese enlace nos lleve a otra pagina o realice una accion, se debem conocer los **atributos**. Los atributos son caracteristicas de los elementos que permiten modificar la accion o atributos visuales de cada texto que nosotros escribimos, ya sea el color, tamaño, sombra... (aunque esto que se menciona se realiza con CSS) o tambien agregar una funcion a la etiqueta (que es lo que buscamos). Para hacer que una etiqueta se pueda enlazar se utiliza **\" href=\"enlace\" \"** para que asi el texto sea \"clickeable\"."
   ]
  },
  {
   "cell_type": "code",
   "execution_count": null,
   "metadata": {
    "vscode": {
     "languageId": "html"
    }
   },
   "outputs": [],
   "source": [
    "<!DOCTYPE html>\n",
    "<html>\n",
    "    <head>\n",
    "        <title>Enlaces en HTML</title>\n",
    "    </head>\n",
    "\n",
    "    <body>\n",
    "        <a href=\"youtube.com/soydalto\"> Funcionará?</a>\n",
    "<!--Si yo al cargar la pagina hago click, me llevara al canal que deseo?-->\n",
    "    </body>\n",
    "</html>"
   ]
  },
  {
   "cell_type": "markdown",
   "metadata": {},
   "source": [
    "Si se intenta clickear el enlace este NO FUNCIONARÁ, pues ahi se esta buscando una ruta local, o sea, la pagina busca una carpeta que se llame \"youtube.com\" para asi poder cargarla pero como no existe, no carga. Para que cargue la pagina deseada hay que poner el link completo, o sea:"
   ]
  },
  {
   "cell_type": "code",
   "execution_count": null,
   "metadata": {
    "vscode": {
     "languageId": "html"
    }
   },
   "outputs": [],
   "source": [
    "<!DOCTYPE html>\n",
    "<html>\n",
    "    <head>\n",
    "        <title>Enlaces en HTML</title>\n",
    "    </head>\n",
    "\n",
    "    <body>\n",
    "        <a href=\"https://youtube.com/soydalto\"> Funcionará?</a>\n",
    "<!--Ahora deberia cargar, cierto?\n",
    "Es bueno saber que no es necesario anteponer htpps:, pues basta con poner //\n",
    "para que el enlace funcione de igual manera. Te invito a probar eso :D\n",
    "igualmente es recomendable anteponer htpps: por temas de seguridad y es una BUENA PRACTICA-->\n",
    "    </body>\n",
    "</html>"
   ]
  },
  {
   "cell_type": "markdown",
   "metadata": {},
   "source": [
    "Ademas de redirigir a otra pagina, tambien se pueden enlazar paginas que nosotros hayamos creado usando rutas locales. A continuacion se mostraran 3 codigos de 3 paginas distintas que estaran en la carpeta ```/enlaces_entre_pag``` para que asi puedan ver como es el enlace entre estas."
   ]
  },
  {
   "cell_type": "code",
   "execution_count": null,
   "metadata": {
    "vscode": {
     "languageId": "html"
    }
   },
   "outputs": [],
   "source": [
    "<!--Codigo de la pagina 1-->\n",
    "\n",
    "<!DOCTYPE html>\n",
    "<html>\n",
    "    <head>\n",
    "        <title>Enlaces 1</title>\n",
    "    </head>\n",
    "\n",
    "    <body>\n",
    "        <h1>Esta es la pagina 1</h1>\n",
    "        <p>\n",
    "            Gracias por abrir la pagina 1, apreta cualquier link :)\n",
    "        </p>\n",
    "        <a href=\"enlaces_2.html\"> Pagina 2</a>\n",
    "        <a href=\"enlaces_3.html\"> Pagina 3</a>\n",
    "    </body>\n",
    "</html>"
   ]
  },
  {
   "cell_type": "code",
   "execution_count": null,
   "metadata": {
    "vscode": {
     "languageId": "html"
    }
   },
   "outputs": [],
   "source": [
    "<!--Codigo de la pagina 2-->\n",
    "<!DOCTYPE html>\n",
    "<html>\n",
    "    <head>\n",
    "        <title>Enlaces 2</title>\n",
    "    </head>\n",
    "\n",
    "    <body>\n",
    "        <h1>Esta es la pagina 2</h1>\n",
    "        <p>\n",
    "            Gracias por abrir la pagina 2, apreta cualquier link :)\n",
    "        </p>\n",
    "        <a href=\"enlaces_1.html\"> Pagina 1</a>\n",
    "        <a href=\"enlaces_3.html\"> Pagina 3</a>\n",
    "    </body>\n",
    "</html>"
   ]
  },
  {
   "cell_type": "code",
   "execution_count": null,
   "metadata": {
    "vscode": {
     "languageId": "html"
    }
   },
   "outputs": [],
   "source": [
    "<!--Codigo de la pagina 3-->\n",
    "<!DOCTYPE html>\n",
    "<html>\n",
    "    <head>\n",
    "        <title>Enlaces 3</title>\n",
    "    </head>\n",
    "\n",
    "    <body>\n",
    "        <h1>Esta es la pagina 3</h1>\n",
    "        <p>\n",
    "            Gracias por abrir la pagina 3, apreta cualquier link :)\n",
    "        </p>\n",
    "        <a href=\"enlaces_1.html\"> Pagina 1</a>\n",
    "        <a href=\"enlaces_2.html\"> Pagina 2</a>\n",
    "    </body>\n",
    "</html>"
   ]
  },
  {
   "cell_type": "markdown",
   "metadata": {},
   "source": [
    "Si ejecutas algun codigo que este en la carpeta, al momento de hacer click te redirigira a la pagina que seleccionaste. Sin embargo la pagina \"cambia\" y no se abre otra.. es posible abrir una pagina al apretar un link? SI, para eso hay que agregar el atributo **\"target\"**. Este valor tiene por defecto **\"self\"**, o sea, que todos los enlaces que se abran serán en la misma pagina, pero lo que nosotros buscamos es que se abra otra distinta, por eso, el valor por defecto debe ser **\"_blank\"** y asi cambiará de pagina. Entonces modificando el codigo del enlace 1 tenemos que:"
   ]
  },
  {
   "cell_type": "code",
   "execution_count": null,
   "metadata": {
    "vscode": {
     "languageId": "html"
    }
   },
   "outputs": [],
   "source": [
    "<!--Codigo modificado de la pagina 1-->\n",
    "<!DOCTYPE html>\n",
    "<html>\n",
    "    <head>\n",
    "        <title>Enlaces 1</title>\n",
    "    </head>\n",
    "\n",
    "    <body>\n",
    "        <h1>Esta es la pagina 1</h1>\n",
    "        <p>\n",
    "            Gracias por abrir la pagina 1, apreta cualquier link :)\n",
    "        </p>\n",
    "        <a href=\"enlaces_2.html\"> Pagina 2</a>\n",
    "        <a href=\"enlaces_3.html\"> Pagina 3</a>\n",
    "\n",
    "        <h2>Enlace con target _blank</h2>\n",
    "        <a href=\"enlaces_2.html\" target=\"_blank\">Pagina 2 pero cambiando la pestaña</a>\n",
    "    </body>\n",
    "</html>\n",
    "<!--Copien y peguen este codigo en el codigo de la pagina 1 y prueben para ver que pasa-->"
   ]
  },
  {
   "cell_type": "markdown",
   "metadata": {},
   "source": [
    "Un ultimo atributo que es interesante saber es sobre **\"title\"**. Este nos permite escribir una descripcion a un enlace, tag, etc. y que al momento de pasar el cursor sobre el texto mostrará lo escrito."
   ]
  },
  {
   "cell_type": "code",
   "execution_count": null,
   "metadata": {
    "vscode": {
     "languageId": "html"
    }
   },
   "outputs": [],
   "source": [
    "<!DOCTYPE html>\n",
    "<html>\n",
    "    <head>\n",
    "        <title>Enlaces en HTML</title>\n",
    "    </head>\n",
    "\n",
    "    <body>\n",
    "        <a href=\"//youtube.com/soydalto\" title=\"Canal YT del autor\"> Funcionará?</a>\n",
    "<!--Ahora deberia cargar, cierto?-->\n",
    "    </body>\n",
    "</html>"
   ]
  },
  {
   "cell_type": "markdown",
   "metadata": {},
   "source": [
    "Al ejecutar el codigo y pasar el cursor sobre el enlace, se verá un texto parecido a esto:\n",
    "<div align=\"center\">\n",
    "  <img src=\"../../imagenes/ejemplo_cursor.png\" alt=\"Texto alternativo\" width=\"400\" height=\"200\" />\n",
    "</div>\n",
    "\n",
    "Como mencioné anteriormente, no solo sirve en los enlaces, sino que tambien sirve en las imagenes, titulos, formularios, botones, etc. Este atributo sirve excelente para personas ciegas, pues provee informacion que el lector de paginas podra analizar y entregarles la informacion, ademas el utilizar esto es una buena practica."
   ]
  },
  {
   "cell_type": "markdown",
   "metadata": {},
   "source": [
    "## Imagenes y rutas"
   ]
  }
 ],
 "metadata": {
  "kernelspec": {
   "display_name": "Python 3",
   "language": "python",
   "name": "python3"
  },
  "language_info": {
   "codemirror_mode": {
    "name": "ipython",
    "version": 3
   },
   "file_extension": ".py",
   "mimetype": "text/x-python",
   "name": "python",
   "nbconvert_exporter": "python",
   "pygments_lexer": "ipython3",
   "version": "3.11.7"
  }
 },
 "nbformat": 4,
 "nbformat_minor": 2
}
